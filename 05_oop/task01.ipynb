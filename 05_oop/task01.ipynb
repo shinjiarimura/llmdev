{
 "cells": [
  {
   "cell_type": "code",
   "execution_count": null,
   "id": "1e8de435",
   "metadata": {},
   "outputs": [
    {
     "name": "stdout",
     "output_type": "stream",
     "text": [
      "1300\n"
     ]
    }
   ],
   "source": [
    "class BankAccount:\n",
    "\n",
    "    def __init__(self, balance):\n",
    "        self._balance = balance\n",
    "    \n",
    "    def get_balance(self):\n",
    "        return self._balance\n",
    "    \n",
    "\n",
    "    def deposit(self, amount):\n",
    "        if amount >= 0:\n",
    "            self._balance += amount\n",
    "        else:\n",
    "            print(\"エラー: 正しい金額を入力してください\")\n",
    "    \n",
    "    def withdraw(self, amount):\n",
    "        if 0 < amount < self._balance:\n",
    "            self._balance -= amount\n",
    "        else:\n",
    "            print(\"エラー: 残高不足または無効な金額です\")\n",
    "\n",
    "\n",
    "bank1 = BankAccount(1000)\n",
    "#print(f\"残高：{bank1.get_balance()}\")\n",
    "bank1.deposit(500)\n",
    "#print(f\"残高：{bank1.get_balance()}\")\n",
    "bank1.withdraw(200)\n",
    "print(bank1.get_balance())\n",
    "#bank1.withdraw(1500)\n",
    "#bank1.deposit(-500)\n"
   ]
  },
  {
   "cell_type": "code",
   "execution_count": null,
   "id": "e81b4272",
   "metadata": {},
   "outputs": [],
   "source": []
  }
 ],
 "metadata": {
  "kernelspec": {
   "display_name": ".venv",
   "language": "python",
   "name": "python3"
  },
  "language_info": {
   "codemirror_mode": {
    "name": "ipython",
    "version": 3
   },
   "file_extension": ".py",
   "mimetype": "text/x-python",
   "name": "python",
   "nbconvert_exporter": "python",
   "pygments_lexer": "ipython3",
   "version": "3.12.10"
  }
 },
 "nbformat": 4,
 "nbformat_minor": 5
}
