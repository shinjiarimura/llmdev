{
 "cells": [
  {
   "cell_type": "code",
   "execution_count": null,
   "id": "1f75a35b",
   "metadata": {},
   "outputs": [],
   "source": [
    "class Dog:\n",
    "    species = \"イヌ科イヌ属\"\n",
    "\n",
    "    # コンストラクタ\n",
    "    def __init__(self, name, age):\n",
    "        self.name = name\n",
    "        self.age = age\n",
    "    \n",
    "    # メソッド\n",
    "    def bark(self):\n",
    "        return f\"{self.name}, {self.age}歳だよ。ワン！\"\n"
   ]
  },
  {
   "cell_type": "code",
   "execution_count": 2,
   "id": "95ef4e8e",
   "metadata": {},
   "outputs": [
    {
     "name": "stdout",
     "output_type": "stream",
     "text": [
      "ジョン, 3歳だよ。ワン！\n",
      "ポチ, 5歳だよ。ワン！\n"
     ]
    }
   ],
   "source": [
    "dog1 = Dog(\"ジョン\", 3)\n",
    "dog2 = Dog(\"ポチ\", 5)\n",
    "\n",
    "print(dog1.bark())\n",
    "print(dog2.bark())\n"
   ]
  },
  {
   "cell_type": "code",
   "execution_count": 3,
   "id": "80bf2123",
   "metadata": {},
   "outputs": [
    {
     "name": "stdout",
     "output_type": "stream",
     "text": [
      "ポチ\n",
      "ジョン\n"
     ]
    }
   ],
   "source": [
    "class Dog:\n",
    "    def __init__(self, name, age):\n",
    "        self.name = name  # パブリック属性\n",
    "        self.age = age    # パブリック属性\n",
    "\n",
    "dog = Dog(\"ポチ\", 5)\n",
    "print(dog.name)  # ポチと表示される\n",
    "dog.name = \"ジョン\"  # 名前を「ジョン」に変更\n",
    "print(dog.name)  # ジョンと表示される"
   ]
  },
  {
   "cell_type": "code",
   "execution_count": 7,
   "id": "4d228da9",
   "metadata": {},
   "outputs": [
    {
     "name": "stdout",
     "output_type": "stream",
     "text": [
      "ぽち\n",
      "5\n"
     ]
    }
   ],
   "source": [
    "class Dog:\n",
    "    def __init__(self, name, age):\n",
    "        self._name = name # プライベート\n",
    "        self.__age = age # プライベート　制御あり\n",
    "\n",
    "dog = Dog(\"ぽち\", 5)\n",
    "print(dog._name)\n",
    "\n",
    "print(dog._Dog__age)\n",
    "# print(dog.__age)"
   ]
  },
  {
   "cell_type": "code",
   "execution_count": 8,
   "id": "fa9ca2ed",
   "metadata": {},
   "outputs": [
    {
     "name": "stdout",
     "output_type": "stream",
     "text": [
      "ぽち\n",
      "John\n"
     ]
    }
   ],
   "source": [
    "class Dog:\n",
    "    def __init__(self, name, age):\n",
    "        self._name = name\n",
    "        self._age = age\n",
    "\n",
    "    # ゲッター\n",
    "    def get_name(self):\n",
    "        return self._name\n",
    "\n",
    "    # セッター\n",
    "    def set_name(self, name):\n",
    "        if len(name) > 0:\n",
    "            self._name = name\n",
    "        else:\n",
    "            print(\"名前が空です。正しい名前を入力してください。\")\n",
    "    \n",
    "    # ゲッター\n",
    "    def get_age(self):\n",
    "        return self._age\n",
    "    \n",
    "    # セッター\n",
    "    def set_age(self, age):\n",
    "        if age > 0:\n",
    "            self._age = age\n",
    "        else:\n",
    "            print(\"年齢は1以上に設定してください。\")\n",
    "\n",
    "\n",
    "dog = Dog(\"ぽち\", 5)\n",
    "print(dog.get_name())\n",
    "\n",
    "dog.set_name(\"John\")\n",
    "print(dog.get_name())\n",
    "\n"
   ]
  },
  {
   "cell_type": "code",
   "execution_count": 9,
   "id": "aa380180",
   "metadata": {},
   "outputs": [
    {
     "name": "stdout",
     "output_type": "stream",
     "text": [
      "ぽち\n",
      "じょん\n"
     ]
    }
   ],
   "source": [
    "class Dog:\n",
    "    def __init__(self, name, age):\n",
    "        self._name = name\n",
    "        self._age = age\n",
    "\n",
    "    # プロパティを使ったゲッター\n",
    "    @property\n",
    "    def name(self):\n",
    "        return self._name\n",
    "    \n",
    "    @name.setter\n",
    "    def name(self, name):\n",
    "        if len(name) > 0:\n",
    "            self._name = name\n",
    "        else:\n",
    "            print(\"名前が空です。正しい名前を入力してください。\")\n",
    "\n",
    "    @property\n",
    "    def age(self):\n",
    "        return self._age\n",
    "    \n",
    "    @age.setter\n",
    "    def age(self, age):\n",
    "        if age > 0:\n",
    "            self._age = age\n",
    "        else:\n",
    "            print(\"年齢は1以上に設定してください。\")\n",
    "\n",
    "\n",
    "dog = Dog(\"ぽち\", 5)\n",
    "print(dog.name)\n",
    "dog.name = \"じょん\"\n",
    "print(dog.name)"
   ]
  },
  {
   "cell_type": "code",
   "execution_count": 12,
   "id": "b6f7ba57",
   "metadata": {},
   "outputs": [
    {
     "name": "stdout",
     "output_type": "stream",
     "text": [
      "何か音を出しています。\n",
      "何か音を出しています。\n",
      "ワンワン！\n"
     ]
    }
   ],
   "source": [
    "class Animal:\n",
    "    def __init__(self, name, age):\n",
    "        self.name = name\n",
    "        self.age = age\n",
    "\n",
    "    def speak(self):\n",
    "        return \"何か音を出しています。\"\n",
    "    \n",
    "\n",
    "class Dog(Animal):\n",
    "    def bark(self):\n",
    "        return \"ワンワン！\"\n",
    "    \n",
    "animal = Animal(\"生き物\", 5)\n",
    "print(animal.speak())\n",
    "\n",
    "dog = Dog(\"ぽち\", 3)\n",
    "print(dog.speak())\n",
    "print(dog.bark())"
   ]
  },
  {
   "cell_type": "code",
   "execution_count": 13,
   "id": "a228accc",
   "metadata": {},
   "outputs": [
    {
     "name": "stdout",
     "output_type": "stream",
     "text": [
      "ぽち はワンワンと吠えています！\n"
     ]
    }
   ],
   "source": [
    "class Animal:\n",
    "    def __init__(self, name, age):\n",
    "        self.name = name\n",
    "        self.age = age\n",
    "\n",
    "    def speak(self):\n",
    "        return \"何か音を出しています。\"\n",
    "\n",
    "class Dog(Animal):\n",
    "    def speak(self):  # 親クラスの speak メソッドをオーバーライド\n",
    "        return f\"{self.name} はワンワンと吠えています！\"\n",
    "\n",
    "dog = Dog(\"ぽち\", 3)\n",
    "print(dog.speak())"
   ]
  },
  {
   "cell_type": "code",
   "execution_count": 18,
   "id": "368a603e",
   "metadata": {},
   "outputs": [
    {
     "name": "stdout",
     "output_type": "stream",
     "text": [
      "何か音を出しています。 そして、pochi はワンワンと吠えています！\n"
     ]
    }
   ],
   "source": [
    "class Animal:\n",
    "    def __init__(self, name, age):\n",
    "        self.name = name\n",
    "        self.age = age\n",
    "\n",
    "    def speak(self):\n",
    "        return \"何か音を出しています。\"\n",
    "\n",
    "\n",
    "class Dog(Animal):\n",
    "    def speak(self):\n",
    "        parent_message = super().speak()  # 親クラスの speak メソッドを呼び出す\n",
    "        return f\"{parent_message} そして、{self.name} はワンワンと吠えています！\"\n",
    "\n",
    "dog = Dog(\"pochi\", 3)\n",
    "print(dog.speak())"
   ]
  },
  {
   "cell_type": "code",
   "execution_count": null,
   "id": "c112d5b8",
   "metadata": {},
   "outputs": [],
   "source": []
  }
 ],
 "metadata": {
  "kernelspec": {
   "display_name": ".venv",
   "language": "python",
   "name": "python3"
  },
  "language_info": {
   "codemirror_mode": {
    "name": "ipython",
    "version": 3
   },
   "file_extension": ".py",
   "mimetype": "text/x-python",
   "name": "python",
   "nbconvert_exporter": "python",
   "pygments_lexer": "ipython3",
   "version": "3.12.10"
  }
 },
 "nbformat": 4,
 "nbformat_minor": 5
}
