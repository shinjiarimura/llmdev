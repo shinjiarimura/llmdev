{
 "cells": [
  {
   "cell_type": "code",
   "execution_count": 1,
   "id": "b5a1547b",
   "metadata": {},
   "outputs": [],
   "source": [
    "import os\n",
    "from dotenv import load_dotenv\n",
    "from openai import OpenAI\n",
    "from pprint import pprint\n",
    "\n",
    "# 環境変数取得\n",
    "load_dotenv(\"../.env\")\n",
    "\n",
    "# OpenAI APIクライアント生成\n",
    "client = OpenAI(api_key=os.environ['API_KEY'])\n",
    "\n",
    "#モデル名\n",
    "MODEL_NAME = \"gpt-4o-mini\""
   ]
  },
  {
   "cell_type": "code",
   "execution_count": 2,
   "id": "e1fc7cac",
   "metadata": {},
   "outputs": [
    {
     "name": "stdout",
     "output_type": "stream",
     "text": [
      "{'_request_id': 'req_45b369a70e254967a639de5429b5cb34',\n",
      " 'choices': [Choice(finish_reason='stop', index=0, logprobs=None, message=ChatCompletionMessage(content='言語モデルを使用する際のポイントはいくつかあります。以下に主なものを挙げます。\\n\\n1. **目標の明確化**:\\n   - 何のために言語モデルを使用するのか、具体的な目標を設定することが重要です。例えば、テキスト生成、要約、翻訳など、目的に応じたアプローチが異なります。\\n\\n2. **プロンプト設計**:\\n   - 言語モデルは与えられた入力（プロンプト）に基づいて出力を生成します。明確で具体的なプロンプトを設計することで、望ましい結果が得られやすくなります。\\n\\n3. **出力の評価**:\\n   - モデルから得られる出力は、必ずしも正確性や一貫性を持つわけではありません。生成されたテキストを慎重に評価し、必要に応じて修正や補完を行うことが大切です。\\n\\n4. **バイアスの理解**:\\n   - 言語モデルは訓練データに基づいており、そのデータに含まれるバイアスを反映することがあります。出力には注意が必要で、特に社会的、倫理的に敏感な内容については慎重に扱う必要があります。\\n\\n5. **連続的な学習**:\\n   - 使用を重ねることで、モデルやプロセスを改善していくことが重要です。フィードバックを基にプロンプトを調整したり、新しい技術やアプローチを探求したりしましょう。\\n\\n6. **プラットフォームとAPIの選定**:\\n   - 使用する言語モデルには様々な種類やプラットフォームが存在します。それぞれの特性や強みを理解し、目的に合ったものを選ぶことが大切です。\\n\\n7. **使用制限の理解**:\\n   - モデルにはAPIコールの回数制限や使用に関する規約がある場合があります。これらの制限を理解し、お守りすることが重要です。\\n\\nこれらのポイントを心に留めておくことで、言語モデルをより効果的に活用できるでしょう。', refusal=None, role='assistant', annotations=[], audio=None, function_call=None, tool_calls=None))],\n",
      " 'created': 1756680816,\n",
      " 'id': 'chatcmpl-CAlDUMAbyYL1VPvhoZoPHMPkeyKH3',\n",
      " 'model': 'gpt-4o-mini-2024-07-18',\n",
      " 'object': 'chat.completion',\n",
      " 'service_tier': 'default',\n",
      " 'system_fingerprint': 'fp_560af6e559',\n",
      " 'usage': CompletionUsage(completion_tokens=517, prompt_tokens=18, total_tokens=535, completion_tokens_details=CompletionTokensDetails(accepted_prediction_tokens=0, audio_tokens=0, reasoning_tokens=0, rejected_prediction_tokens=0), prompt_tokens_details=PromptTokensDetails(audio_tokens=0, cached_tokens=0))}\n"
     ]
    }
   ],
   "source": [
    "message = \"言語モデルを使う上でのポイントは\"\n",
    "\n",
    "# APIへリクエスト\n",
    "response = client.chat.completions.create(\n",
    "    model=MODEL_NAME,\n",
    "    messages=[\n",
    "        {\"role\": \"user\", \"content\": message}\n",
    "    ]\n",
    ")\n",
    "\n",
    "# レスポンス表示\n",
    "pprint(vars(response))"
   ]
  },
  {
   "cell_type": "code",
   "execution_count": 3,
   "id": "13b12889",
   "metadata": {},
   "outputs": [
    {
     "name": "stdout",
     "output_type": "stream",
     "text": [
      "言語モデルを使用する際のポイントはいくつかあります。以下に主なものを挙げます。\n",
      "\n",
      "1. **目標の明確化**:\n",
      "   - 何のために言語モデルを使用するのか、具体的な目標を設定することが重要です。例えば、テキスト生成、要約、翻訳など、目的に応じたアプローチが異なります。\n",
      "\n",
      "2. **プロンプト設計**:\n",
      "   - 言語モデルは与えられた入力（プロンプト）に基づいて出力を生成します。明確で具体的なプロンプトを設計することで、望ましい結果が得られやすくなります。\n",
      "\n",
      "3. **出力の評価**:\n",
      "   - モデルから得られる出力は、必ずしも正確性や一貫性を持つわけではありません。生成されたテキストを慎重に評価し、必要に応じて修正や補完を行うことが大切です。\n",
      "\n",
      "4. **バイアスの理解**:\n",
      "   - 言語モデルは訓練データに基づいており、そのデータに含まれるバイアスを反映することがあります。出力には注意が必要で、特に社会的、倫理的に敏感な内容については慎重に扱う必要があります。\n",
      "\n",
      "5. **連続的な学習**:\n",
      "   - 使用を重ねることで、モデルやプロセスを改善していくことが重要です。フィードバックを基にプロンプトを調整したり、新しい技術やアプローチを探求したりしましょう。\n",
      "\n",
      "6. **プラットフォームとAPIの選定**:\n",
      "   - 使用する言語モデルには様々な種類やプラットフォームが存在します。それぞれの特性や強みを理解し、目的に合ったものを選ぶことが大切です。\n",
      "\n",
      "7. **使用制限の理解**:\n",
      "   - モデルにはAPIコールの回数制限や使用に関する規約がある場合があります。これらの制限を理解し、お守りすることが重要です。\n",
      "\n",
      "これらのポイントを心に留めておくことで、言語モデルをより効果的に活用できるでしょう。\n"
     ]
    }
   ],
   "source": [
    "print(response.choices[0].message.content.strip())"
   ]
  },
  {
   "cell_type": "code",
   "execution_count": 4,
   "id": "d5853c71",
   "metadata": {},
   "outputs": [
    {
     "name": "stdout",
     "output_type": "stream",
     "text": [
      "新製品の発売に向けた効果的なマーケティング戦略は以下のステップで構成されます。\n",
      "\n",
      "### 1. ターゲット市場の調査\n",
      "- **顧客セグメンテーション**: 性別、年齢、地域、ライフスタイルなどに基づいてターゲットを明確にする。\n",
      "- **市場ニーズの分析**: 顧客が求めている機能やサービス、価格帯を調査し、競合他社の分析も行う。\n",
      "\n",
      "### 2. ブランドメッセージの定義\n",
      "- **ユニークなバリュープロポジション**: 製品の特性や利点を明確にし、他社との差別化を図る。\n",
      "- **ストーリーテリング**: ブランドの背後にある物語や価値を伝え、消費者の感情に訴える。\n",
      "\n",
      "### 3. マーケティング施策の策定\n",
      "- **プロモーション計画**: SNS、オンライン広告、メールマーケティング、イベントなど、多様なチャネルを活用して情報を発信。\n",
      "- **インフルエンサーとの連携**: ターゲット市場に影響力のあるインフルエンサーとのコラボレーションを検討する。\n",
      "\n",
      "### 4. プレローンチとローンチの計画\n",
      "- **ティーザーキャンペーン**: 新製品の発表前に興味を引くための予告やプロモーションを行う。\n",
      "- **ローンチイベント**: オンラインまたはオフラインでの発売イベントを企画し、メディアや顧客を招待する。\n",
      "\n",
      "### 5. エンゲージメントの促進\n",
      "- **フィードバック収集**: 顧客からのレビューや意見を収集し、製品改善や次回に向けた施策に活用する。\n",
      "- **コミュニティの構築**: 購入後のフォローアップや、SNSプラットフォーム上での顧客とのコミュニケーションを強化する。\n",
      "\n",
      "### 6. 成果分析と調整\n",
      "- **KPIの設定**: 売上、リーチ、エンゲージメント率などの重要業績評価指標を設定し、効果を測定する。\n",
      "- **戦略の見直し**: データに基づき、必要に応じて戦略を調整し、改善を図る。\n",
      "\n",
      "これらのステップを踏むことで、計画的かつ効果的なマーケティング戦略を展開し、新製品の成功をサポートすることができます。\n"
     ]
    }
   ],
   "source": [
    "# 役割と前提\n",
    "role = \"あなたはマーケティング分野に精通したビジネスコンサルタントです。企業の成長をサポートするために、効果的なマーケティング戦略を提供します。\"\n",
    "\n",
    "# メッセージ\n",
    "message = \"新製品の発売に向けた効果的なマーケティング戦略を教えてください。\"\n",
    "\n",
    "# APIへリクエスト\n",
    "response = client.chat.completions.create(\n",
    "    model=MODEL_NAME,\n",
    "    messages=[\n",
    "        {\"role\": \"system\", \"content\": role},\n",
    "        {\"role\": \"user\", \"content\": message}\n",
    "    ],\n",
    ")\n",
    "\n",
    "# 回答\n",
    "print(response.choices[0].message.content.strip())"
   ]
  },
  {
   "cell_type": "code",
   "execution_count": 8,
   "id": "63cc5232",
   "metadata": {},
   "outputs": [
    {
     "name": "stdout",
     "output_type": "stream",
     "text": [
      "--------------------\n",
      "もちろんです！日本には多くの魅力があり、文化、歴史、自然などさまざまな面で人々を惹きつけています。いくつかのポイントをご紹介します。\n",
      "\n",
      "### 1. 伝統文化\n",
      "- **祭り（まつり）**: 日本各地で行われる地域独自の祭りは、神社や寺と結びついており、色鮮やかな衣\n",
      "--------------------\n",
      "もちろんです！日本は、多様な文化、歴史、美しい自然、そして現代的な都市生活が共存する魅力的な国です。以下にいくつかのポイントを紹介します。\n",
      "\n",
      "### 1. 伝統と現代の融合\n",
      "日本では、古い伝統が大切にされている一方で、最先端のテクノロジーやカルチャーも発展しています。京都の寺院\n",
      "--------------------\n",
      "日本の魅力は多岐にわたります。以下はいくつかのポイントを紹介します。\n",
      "\n",
      "### 1. 美しい自然\n",
      "- **四季の変化**: 日本には春の桜、夏の緑、秋の紅葉、冬の雪景色といった四季折々の美しさがあります。\n",
      "- **山や海**: 富士山やアルプス山脈、美しい海岸線など、多\n"
     ]
    }
   ],
   "source": [
    "# temparture\n",
    "\n",
    "message = \"日本の魅力を紹介して！\"\n",
    "\n",
    "response = client.chat.completions.create(\n",
    "    model=MODEL_NAME,\n",
    "    messages=[\n",
    "        {\"role\": \"user\", \"content\": message},\n",
    "    ],\n",
    "    #temperature=1.4,\n",
    "    presence_penalty=2.0,\n",
    "    n = 3,\n",
    "    max_completion_tokens= 100\n",
    ")\n",
    "\n",
    "for choice in response.choices:\n",
    "    print(\"-\" * 20)\n",
    "    print(choice.message.content.strip())\n"
   ]
  },
  {
   "cell_type": "code",
   "execution_count": 9,
   "id": "0f36a3ab",
   "metadata": {},
   "outputs": [
    {
     "name": "stdout",
     "output_type": "stream",
     "text": [
      "tokens_count=2\n",
      "tokens=[95839, 3393]\n"
     ]
    }
   ],
   "source": [
    "import tiktoken\n",
    "from tiktoken.core import Encoding\n",
    "\n",
    "# トークナイザー取得\n",
    "encording: Encoding = tiktoken.encoding_for_model(MODEL_NAME)\n",
    "\n",
    "# トークンIDリスト変換\n",
    "tokens = encording.encode(\"こんにちは！\")\n",
    "tokens_count = len(tokens)\n",
    "\n",
    "print(f\"{tokens_count=}\")\n",
    "print(f\"{tokens=}\")"
   ]
  },
  {
   "cell_type": "code",
   "execution_count": 10,
   "id": "dc1415a9",
   "metadata": {},
   "outputs": [
    {
     "name": "stdout",
     "output_type": "stream",
     "text": [
      "--------------------\n",
      "B:こんにちは！Aさん、元気ですか？\n",
      "--------------------\n",
      "B:こんにちは！Aさん、元気ですか？\n",
      "--------------------\n",
      "B:こんにちは、Aさん！お元気ですか？\n"
     ]
    }
   ],
   "source": [
    "# トークンの選択度合い\n",
    "message = \"\"\"\n",
    "AさんとBさんで会話してください。\n",
    "A:あ、Bさんだ。\n",
    "B:\n",
    "\"\"\"\n",
    "\n",
    "# APIへリクエスト\n",
    "response = client.chat.completions.create(\n",
    "    model=MODEL_NAME,\n",
    "    messages=[\n",
    "        {\"role\": \"user\", \"content\": message},\n",
    "    ],\n",
    "    max_tokens=100,\n",
    "    n=3,\n",
    "    logit_bias = {95839:8, 3393:8}\n",
    ")\n",
    "\n",
    "# 結果を表示\n",
    "for choice in response.choices:\n",
    "    print(\"-\" * 20)\n",
    "    print(choice.message.content.strip())"
   ]
  },
  {
   "cell_type": "code",
   "execution_count": 13,
   "id": "38e12f0e",
   "metadata": {},
   "outputs": [
    {
     "name": "stdout",
     "output_type": "stream",
     "text": [
      "言語モデルを効果的に利用するためのポイントはいくつかあります。以下にいくつかの重要な点を挙げます。\n",
      "\n",
      "1. **明確な質問をする**: わかりやすく具体的な質問をすることで、より正確で有用な回答を得られます。\n",
      "\n",
      "2. **コンテキストを提供する**: 必要に応じて関連情報や背景を提供することで、モデルがより適切に応答できるようにします。\n",
      "\n",
      "3. **フィードバックを活用する**: モデルの回答が期待に沿わない場合は、フォローアップの質問や追加の情報を提供することで、より良い結果を引き出します。\n",
      "\n",
      "4. **出力を検証する**: モデルの生成する情報は必ずしも正確とは限らないため、重要な決定に関しては別の信頼できる情報源で確認することが大切です。\n",
      "\n",
      "5. **クリエイティブな利用**: 言語モデルはアイデア出しやブレインストーミングにも利用できるため、自由な発想を促すために活用するのも良いでしょう。\n",
      "\n",
      "6. **連続的な対話を楽しむ**: モデルとの連続的な対話を楽しむことで、新たな視点や洞察を得ることができます。\n",
      "\n",
      "7. **特定のスタイルや形式を指定する**: 例えば「ビジネスライクなトーンで」や「カジュアルな会話調で」といった要望を伝えると、より希望に沿った回答が得られます。\n",
      "\n",
      "これらのポイントを考慮することで、言語モデルを活用したコミュニケーションがより効果的になります。"
     ]
    }
   ],
   "source": [
    "message = \"言語モデルを使う上でのポイントは\"\n",
    "\n",
    "stream = client.chat.completions.create(\n",
    "    model=MODEL_NAME,\n",
    "    messages=[\n",
    "        {\"role\": \"user\", \"content\": message},\n",
    "    ],\n",
    "    stream=True,\n",
    ")\n",
    "\n",
    "for chunk in stream:\n",
    "    if chunk.choices:\n",
    "        if chunk.choices[0].delta.content is not None:\n",
    "            print(chunk.choices[0].delta.content, end=\"\")\n",
    "            #print(chunk.choices[0].delta.content)"
   ]
  },
  {
   "cell_type": "code",
   "execution_count": null,
   "id": "e74d924f",
   "metadata": {},
   "outputs": [],
   "source": []
  }
 ],
 "metadata": {
  "kernelspec": {
   "display_name": ".venv",
   "language": "python",
   "name": "python3"
  },
  "language_info": {
   "codemirror_mode": {
    "name": "ipython",
    "version": 3
   },
   "file_extension": ".py",
   "mimetype": "text/x-python",
   "name": "python",
   "nbconvert_exporter": "python",
   "pygments_lexer": "ipython3",
   "version": "3.12.10"
  }
 },
 "nbformat": 4,
 "nbformat_minor": 5
}
