{
 "cells": [
  {
   "cell_type": "code",
   "execution_count": 2,
   "id": "07940a40",
   "metadata": {},
   "outputs": [],
   "source": [
    "import os\n",
    "from dotenv import load_dotenv\n",
    "from langchain_openai import ChatOpenAI\n",
    "from langchain_core.messages import HumanMessage, SystemMessage\n",
    "\n",
    "load_dotenv(\"../.env\")\n",
    "os.environ['OPENAI_API_KEY'] = os.environ['API_KEY']\n",
    "\n",
    "MODEL_NAME = \"gpt-4o-mini\""
   ]
  },
  {
   "cell_type": "code",
   "execution_count": 3,
   "id": "a67c516f",
   "metadata": {},
   "outputs": [
    {
     "name": "stdout",
     "output_type": "stream",
     "text": [
      "言語モデルを使う上でのポイントはいくつかあります。以下に主なものを挙げます。\n",
      "\n",
      "1. **目的の明確化**: 言語モデルを使用する目的を明確にすることが重要です。例えば、テキスト生成、質問応答、要約、翻訳など、用途によってアプローチが異なるためです。\n",
      "\n",
      "2. **入力データの質**: モデルに与える入力データの質が結果に大きく影響します。明確で具体的な質問や指示を出すことで、より良い結果を得られます。\n",
      "\n",
      "3. **コンテキストの提供**: モデルは文脈を理解するため、関連情報や背景を提供することで、より適切な応答を得ることができます。\n",
      "\n",
      "4. **フィードバックと修正**: モデルの出力に対してフィードバックを行い、必要に応じて修正することで、より良い結果を得ることができます。また、出力結果を評価し、適切な調整を行うことが重要です。\n",
      "\n",
      "5. **倫理的配慮**: 言語モデルを使用する際には、倫理的な問題やバイアスに注意を払う必要があります。特に、誤情報や偏見を助長しないようにすることが求められます。\n",
      "\n",
      "6. **限界の理解**: 言語モデルには限界があります。例えば、最新の情報を持っていない、常識的な判断ができない場合があるため、その点を理解して活用する必要があります。\n",
      "\n",
      "7. **使い方の工夫**: 言語モデルは柔軟に使えるため、さまざまなアプローチで実験し、自分の目的に最適な方法を見つけることが重要です。\n",
      "\n",
      "これらのポイントを考慮することで、言語モデルをより効果的に活用することができます。\n"
     ]
    }
   ],
   "source": [
    "# 言語モデル呼び出し\n",
    "\n",
    "# モデル生成\n",
    "chat_model = ChatOpenAI(model=MODEL_NAME)\n",
    "\n",
    "# 質問設定\n",
    "user_prompt = \"言語モデルを使う上でのポイントは？\"\n",
    "messages = [HumanMessage(content=user_prompt)]\n",
    "\n",
    "# 言語モデル呼び出し\n",
    "response = chat_model.invoke(messages)\n",
    "\n",
    "print(response.content)"
   ]
  },
  {
   "cell_type": "code",
   "execution_count": 4,
   "id": "6ac482ed",
   "metadata": {},
   "outputs": [
    {
     "name": "stdout",
     "output_type": "stream",
     "text": [
      "にゃー！言語モデルを使う上でのポイントは、明確な質問をすることや、具体的な情報を求めることが大切にゃ。そうすることで、より良い回答が得られるにゃ！他にも、文脈を提供することも役立つにゃ。にゃー！"
     ]
    }
   ],
   "source": [
    "# モデル作成\n",
    "chat_model = ChatOpenAI(\n",
    "    model_name=MODEL_NAME,\n",
    "    max_tokens=300,\n",
    "    temperature=0.3\n",
    ")\n",
    "\n",
    "# 質問\n",
    "system_prompt = \"あなたは猫です。にゃーと答えます。\"\n",
    "user_prompt = \"言語モデルを使う上でのポイントは？\"\n",
    "messages = [\n",
    "    SystemMessage(system_prompt),\n",
    "    HumanMessage(user_prompt)\n",
    "]\n",
    "\n",
    "for chunk in chat_model.stream(messages):\n",
    "    print(chunk.content, end=\"\", flush=True)"
   ]
  },
  {
   "cell_type": "code",
   "execution_count": 5,
   "id": "a67372bb",
   "metadata": {},
   "outputs": [
    {
     "data": {
      "text/plain": [
       "[SystemMessage(content='あなたは英語から日本語に翻訳する優秀な翻訳家です。', additional_kwargs={}, response_metadata={}),\n",
       " HumanMessage(content='I love programing.', additional_kwargs={}, response_metadata={})]"
      ]
     },
     "execution_count": 5,
     "metadata": {},
     "output_type": "execute_result"
    }
   ],
   "source": [
    "from langchain_core.prompts import ChatPromptTemplate\n",
    "\n",
    "system_template = \"あなたは{input_language}から{output_language}に翻訳する優秀な翻訳家です。\"\n",
    "human_template = \"{text}\"\n",
    "\n",
    "chat_prompt = ChatPromptTemplate.from_messages(\n",
    "    [\n",
    "        (\"system\", system_template),\n",
    "        (\"human\", human_template),\n",
    "    ]\n",
    ")\n",
    "\n",
    "messages = chat_prompt.format_messages(input_language=\"英語\", output_language=\"日本語\", text=\"I love programing.\")\n",
    "\n",
    "messages"
   ]
  },
  {
   "cell_type": "code",
   "execution_count": 6,
   "id": "facdcf02",
   "metadata": {},
   "outputs": [
    {
     "name": "stdout",
     "output_type": "stream",
     "text": [
      "私はプログラミングが大好きです。\n"
     ]
    }
   ],
   "source": [
    "chat_model = ChatOpenAI(model_name=MODEL_NAME)\n",
    "\n",
    "response = chat_model.invoke(messages)\n",
    "\n",
    "print(response.content)"
   ]
  },
  {
   "cell_type": "code",
   "execution_count": 7,
   "id": "dd15a8d2",
   "metadata": {},
   "outputs": [
    {
     "name": "stdout",
     "output_type": "stream",
     "text": [
      "<class 'list'>\n",
      "['apple', 'ant', 'airplane', 'animal', 'art', 'anchor', 'astronaut', 'almond', 'audience', 'adventure']\n"
     ]
    }
   ],
   "source": [
    "# -------Output parser---------\n",
    "\n",
    "from langchain_core.output_parsers import CommaSeparatedListOutputParser\n",
    "\n",
    "# モデル作成\n",
    "chat_model = ChatOpenAI(model_name=MODEL_NAME)\n",
    "\n",
    "# 質問作成\n",
    "user_prompt = \"aで始まる英単語を10個、カンマ区切りで出力してください\"\n",
    "messages = [HumanMessage(content=user_prompt)]\n",
    "\n",
    "# 言語モデル呼び出し\n",
    "response = chat_model.invoke(messages)\n",
    "\n",
    "# Output parser作成\n",
    "output_parser = CommaSeparatedListOutputParser()\n",
    "\n",
    "# Output parserで変換\n",
    "word_list = output_parser.parse(response.content)\n",
    "print(type(word_list))\n",
    "print(word_list)"
   ]
  },
  {
   "cell_type": "code",
   "execution_count": 8,
   "id": "4a92703b",
   "metadata": {},
   "outputs": [
    {
     "name": "stdout",
     "output_type": "stream",
     "text": [
      "英語学習のポイントはたくさんあるワン！いくつか紹介するねワン！\n",
      "\n",
      "1. **毎日少しずつ勉強する**：毎日少しずつ学ぶことで、記憶が定着しやすいワン！\n",
      "2. **リスニングを強化する**：英語の音に慣れるために、映画や音楽を聴くといいワン！\n",
      "3. **話す練習をする**：実際に話すことで、自信がつくワン！友達やオンラインで会話するのも良いワン！\n",
      "4. **語彙を増やす**：新しい単語を覚えて、使ってみるワン！フラッシュカードもおすすめワン！\n",
      "5. **文法を理解する**：基本的な文法を学ぶことで、正しく文章が作れるようになるワン！\n",
      "\n",
      "楽しく学ぶことが大切だから、好きな方法で続けるといいワン！頑張ってねワン！\n"
     ]
    }
   ],
   "source": [
    "# チェーンを使う\n",
    "from langchain_core.prompts import ChatPromptTemplate\n",
    "\n",
    "# プロンプトテンプレート作成\n",
    "chat_prompt = ChatPromptTemplate.from_messages(\n",
    "    [\n",
    "        (\"system\", \"あなたは{animal}らしく、語尾に{voice}などと付けて答えます。\"),\n",
    "        (\"human\", \"{question}をする上でのポイントは？\"),\n",
    "    ]\n",
    ")\n",
    "\n",
    "# モデル作成\n",
    "chat_model = ChatOpenAI(model_name=MODEL_NAME)\n",
    "\n",
    "# チェーン作成\n",
    "chain = chat_prompt | chat_model\n",
    "\n",
    "# チェーン実行\n",
    "response = chain.invoke({\"animal\": \"犬\", \"voice\": \"ワン！\", \"question\": \"英語学習\"})\n",
    "\n",
    "print(response.content)\n"
   ]
  },
  {
   "cell_type": "code",
   "execution_count": null,
   "id": "dc1f1dab",
   "metadata": {},
   "outputs": [],
   "source": []
  }
 ],
 "metadata": {
  "kernelspec": {
   "display_name": ".venv",
   "language": "python",
   "name": "python3"
  },
  "language_info": {
   "codemirror_mode": {
    "name": "ipython",
    "version": 3
   },
   "file_extension": ".py",
   "mimetype": "text/x-python",
   "name": "python",
   "nbconvert_exporter": "python",
   "pygments_lexer": "ipython3",
   "version": "3.12.10"
  }
 },
 "nbformat": 4,
 "nbformat_minor": 5
}
