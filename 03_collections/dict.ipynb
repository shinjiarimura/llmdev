{
 "cells": [
  {
   "cell_type": "code",
   "execution_count": 4,
   "id": "c801ab62",
   "metadata": {},
   "outputs": [
    {
     "name": "stdout",
     "output_type": "stream",
     "text": [
      "{'one': 1, 'two': 2, 'three': 3}\n",
      "{'name': 'Alice', 'age': 25, 'is_student': False}\n",
      "{}\n"
     ]
    }
   ],
   "source": [
    "numbers = {\"one\":1, \"two\":2, \"three\":3}\n",
    "print(numbers)\n",
    "\n",
    "person = {\"name\": \"Alice\", \"age\": 25, \"is_student\": False}\n",
    "print(person)  # {'name': 'Alice', 'age': 25, 'is_student': False}\n",
    "\n",
    "emp_dix = {}\n",
    "print(emp_dix)"
   ]
  },
  {
   "cell_type": "code",
   "execution_count": 6,
   "id": "bf672168",
   "metadata": {},
   "outputs": [
    {
     "name": "stdout",
     "output_type": "stream",
     "text": [
      "{'name': 'bob', 'age': 30, 'is_stu': True}\n",
      "{'apple': 100, 'banana': 200, 'cherry': 300}\n"
     ]
    }
   ],
   "source": [
    "person = dict(name=\"bob\", age=30, is_stu=True)\n",
    "print(person)\n",
    "\n",
    "pairs = [(\"apple\", 100),(\"banana\", 200), (\"cherry\", 300)]\n",
    "fruits_prices = dict(pairs)\n",
    "print(fruits_prices)"
   ]
  },
  {
   "cell_type": "code",
   "execution_count": 8,
   "id": "471311a9",
   "metadata": {},
   "outputs": [
    {
     "name": "stdout",
     "output_type": "stream",
     "text": [
      "{'key1': 0, 'key2': 0, 'key3': 0, 'key4': 0, 'key5': 0}\n"
     ]
    }
   ],
   "source": [
    "keys = [\"key1\", \"key2\", \"key3\", \"key4\", \"key5\"]\n",
    "rep_val_dic = dict.fromkeys(keys,0)\n",
    "print(rep_val_dic)"
   ]
  },
  {
   "cell_type": "code",
   "execution_count": 10,
   "id": "a4c9976e",
   "metadata": {},
   "outputs": [
    {
     "name": "stdout",
     "output_type": "stream",
     "text": [
      "100\n",
      "{'apple': 100, 'banana': 250, 'cherry': 300}\n"
     ]
    }
   ],
   "source": [
    "fruit_prices = {\"apple\": 100, \"banana\": 200, \"cherry\": 300}\n",
    "\n",
    "print(fruit_prices[\"apple\"])\n",
    "\n",
    "fruit_prices[\"banana\"] = 250\n",
    "\n",
    "print(fruit_prices)"
   ]
  },
  {
   "cell_type": "code",
   "execution_count": null,
   "id": "d8465a88",
   "metadata": {},
   "outputs": [
    {
     "name": "stdout",
     "output_type": "stream",
     "text": [
      "{'apple': 100, 'banana': 200, 'grape': 400}\n"
     ]
    }
   ],
   "source": [
    "fruit_prices = {\"apple\": 100, \"banana\": 200}\n",
    "\n",
    "fruit_prices[\"grape\"] = 400\n",
    "print(fruit_prices)\n",
    "\n"
   ]
  },
  {
   "cell_type": "code",
   "execution_count": 14,
   "id": "89e80b44",
   "metadata": {},
   "outputs": [
    {
     "name": "stdout",
     "output_type": "stream",
     "text": [
      "{'apple': 100, 'banana': 200, 'cherry': 300}\n",
      "{'apple': 100, 'cherry': 300}\n",
      "200\n",
      "{'apple': 100}\n",
      "{}\n"
     ]
    }
   ],
   "source": [
    "fruit_prices = {\"apple\": 100, \"banana\": 200, \"cherry\": 300}\n",
    "print(fruit_prices)\n",
    "\n",
    "del_pri = fruit_prices.pop(\"banana\")\n",
    "print(fruit_prices)\n",
    "print(del_pri)\n",
    "\n",
    "del fruit_prices[\"cherry\"]\n",
    "print(fruit_prices)\n",
    "\n",
    "fruit_prices.clear()\n",
    "print(fruit_prices)\n"
   ]
  },
  {
   "cell_type": "code",
   "execution_count": 18,
   "id": "91f7945a",
   "metadata": {},
   "outputs": [
    {
     "name": "stdout",
     "output_type": "stream",
     "text": [
      "dict_keys(['apple', 'banana', 'cherry'])\n",
      "dict_values([100, 200, 300])\n",
      "dict_items([('apple', 100), ('banana', 200), ('cherry', 300)])\n"
     ]
    }
   ],
   "source": [
    "fruit_prices = {\"apple\": 100, \"banana\": 200, \"cherry\": 300}\n",
    "\n",
    "keys = fruit_prices.keys()\n",
    "print(keys)\n",
    "\n",
    "val = fruit_prices.values()\n",
    "print(val)\n",
    "\n",
    "items = fruit_prices.items()\n",
    "print(items)"
   ]
  },
  {
   "cell_type": "code",
   "execution_count": 20,
   "id": "9aa9b5fd",
   "metadata": {},
   "outputs": [
    {
     "name": "stdout",
     "output_type": "stream",
     "text": [
      "True\n",
      "False\n"
     ]
    }
   ],
   "source": [
    "fruit_prices = {\"apple\": 100, \"banana\": 200, \"cherry\": 300}\n",
    "\n",
    "\n",
    "print(\"apple\" in fruit_prices)\n",
    "\n",
    "print(\"melon\" in fruit_prices)"
   ]
  },
  {
   "cell_type": "code",
   "execution_count": null,
   "id": "00815147",
   "metadata": {},
   "outputs": [],
   "source": []
  }
 ],
 "metadata": {
  "kernelspec": {
   "display_name": ".venv",
   "language": "python",
   "name": "python3"
  },
  "language_info": {
   "codemirror_mode": {
    "name": "ipython",
    "version": 3
   },
   "file_extension": ".py",
   "mimetype": "text/x-python",
   "name": "python",
   "nbconvert_exporter": "python",
   "pygments_lexer": "ipython3",
   "version": "3.12.10"
  }
 },
 "nbformat": 4,
 "nbformat_minor": 5
}
