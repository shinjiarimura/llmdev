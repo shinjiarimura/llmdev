{
 "cells": [
  {
   "cell_type": "code",
   "execution_count": 25,
   "id": "4188b02f",
   "metadata": {},
   "outputs": [
    {
     "name": "stdout",
     "output_type": "stream",
     "text": [
      "英単語を入力してください：dog\n",
      "英単語を入力してください：cat\n",
      "英単語を入力してください：giraffe\n",
      "英単語を入力してください：kangaroo\n",
      "英単語を入力してください：horse\n",
      "英単語を入力してください：bear\n",
      "英単語を入力してください：\n",
      "入力した英単語：['bear', 'cat', 'dog', 'giraffe', 'horse', 'kangaroo']\n",
      "aが5個ありました\n",
      "bが1個ありました\n",
      "cが1個ありました\n",
      "dが1個ありました\n",
      "eが3個ありました\n",
      "fが2個ありました\n",
      "gが3個ありました\n",
      "hが1個ありました\n",
      "iが1個ありました\n",
      "kが1個ありました\n",
      "nが1個ありました\n",
      "oが4個ありました\n",
      "rが4個ありました\n",
      "sが1個ありました\n",
      "tが1個ありました\n"
     ]
    }
   ],
   "source": [
    "# 英単語を格納するための空のリストを作成する\n",
    "alfa_cha_list = list(\"abcdefghijklmnopqrstuvwxyz\")\n",
    "#print(alfa_cha_list)\n",
    "\n",
    "# アルファベットごとの数を格納する辞書を作成する。\n",
    "alfa_cha_dict = dict.fromkeys(alfa_cha_list,0)\n",
    "#print(alfa_cha_dict)\n",
    "\n",
    "# 英単語の入力の受付を繰り返す\n",
    "word_list = list()\n",
    "while True:\n",
    "    input_word = input(\"英単語を入力してください：\")\n",
    "    print(f\"英単語を入力してください：{input_word}\")\n",
    "    if input_word == \"\":\n",
    "        break\n",
    "    else:\n",
    "        word_list.append(input_word)\n",
    "        # print(\"word_list:\",word_list)\n",
    "        temp_cha = list(input_word)\n",
    "        # print(\"temp_cha:\",temp_cha)\n",
    "        \n",
    "        for i in temp_cha:\n",
    "            alfa_cha_dict[i] += 1\n",
    "        \n",
    "        continue\n",
    "\n",
    "# 英単語のリストをABC順に並べ替える\n",
    "word_list.sort()\n",
    "# 英単語のリストを一覧表示する\n",
    "print(f\"入力した英単語：{word_list}\")\n",
    "\n",
    "# アルファベットごとの数を格納する辞書から、数が0より大きい文字について「○が△個ありました」と表示する\n",
    "for i in alfa_cha_dict:\n",
    "    if alfa_cha_dict[i] == 0:\n",
    "        continue\n",
    "    else:\n",
    "        print(f\"{i}が{alfa_cha_dict[i]}個ありました\")\n",
    "\n",
    "\n"
   ]
  },
  {
   "cell_type": "code",
   "execution_count": null,
   "id": "6600bdc7",
   "metadata": {},
   "outputs": [],
   "source": []
  }
 ],
 "metadata": {
  "kernelspec": {
   "display_name": ".venv",
   "language": "python",
   "name": "python3"
  },
  "language_info": {
   "codemirror_mode": {
    "name": "ipython",
    "version": 3
   },
   "file_extension": ".py",
   "mimetype": "text/x-python",
   "name": "python",
   "nbconvert_exporter": "python",
   "pygments_lexer": "ipython3",
   "version": "3.12.10"
  }
 },
 "nbformat": 4,
 "nbformat_minor": 5
}
