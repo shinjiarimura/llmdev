{
 "cells": [
  {
   "cell_type": "code",
   "execution_count": 4,
   "id": "4492dd7a",
   "metadata": {},
   "outputs": [
    {
     "name": "stdout",
     "output_type": "stream",
     "text": [
      "{1, 2, 3, 4, 5}\n",
      "{'apple', 42, (1, 2, 3)}\n",
      "set()\n"
     ]
    }
   ],
   "source": [
    "numbers = {1,2,3,4,5}\n",
    "print(numbers)\n",
    "\n",
    "mixed_set = {\"apple\",42,(1,2,3)}\n",
    "print(mixed_set)\n",
    "\n",
    "emp_set = set()\n",
    "print(emp_set)"
   ]
  },
  {
   "cell_type": "code",
   "execution_count": 6,
   "id": "4ee2c4df",
   "metadata": {},
   "outputs": [
    {
     "name": "stdout",
     "output_type": "stream",
     "text": [
      "{1, 2, 3, 4, 5}\n",
      "{'l', 'h', 'o', 'e'}\n"
     ]
    }
   ],
   "source": [
    "numbers_list = [1,2,3,4,5]\n",
    "uni_num = set(numbers_list)\n",
    "print(uni_num)\n",
    "\n",
    "letters = set(\"hello\")\n",
    "print(letters)"
   ]
  },
  {
   "cell_type": "code",
   "execution_count": 8,
   "id": "89922182",
   "metadata": {},
   "outputs": [
    {
     "name": "stdout",
     "output_type": "stream",
     "text": [
      "{'cherry', 'apple', 'banana'}\n",
      "{'cherry', 'apple', 'banana'}\n"
     ]
    }
   ],
   "source": [
    "fruits = {\"apple\", \"banana\"}\n",
    "fruits.add(\"cherry\")\n",
    "print(fruits)\n",
    "\n",
    "fruits.add(\"apple\")\n",
    "print(fruits)"
   ]
  },
  {
   "cell_type": "code",
   "execution_count": 14,
   "id": "96c9686c",
   "metadata": {},
   "outputs": [
    {
     "name": "stdout",
     "output_type": "stream",
     "text": [
      "{'cherry', 'apple'}\n",
      "{'cherry', 'apple'}\n",
      "{'apple'}\n",
      "cherry\n",
      "set()\n"
     ]
    }
   ],
   "source": [
    "fruits = {\"apple\", \"banana\", \"cherry\"}\n",
    "\n",
    "fruits.remove(\"banana\")\n",
    "print(fruits)\n",
    "\n",
    "fruits.discard(\"orange\")\n",
    "print(fruits)\n",
    "\n",
    "removed_item = fruits.pop()\n",
    "print(fruits)\n",
    "print(removed_item)\n",
    "\n",
    "fruits.clear()\n",
    "print(fruits)"
   ]
  },
  {
   "cell_type": "code",
   "execution_count": 19,
   "id": "98354a8a",
   "metadata": {},
   "outputs": [
    {
     "name": "stdout",
     "output_type": "stream",
     "text": [
      "{1, 2, 3, 4, 5, 6}\n",
      "{3, 4}\n",
      "{3, 4}\n",
      "{1, 2}\n",
      "{1, 2, 5, 6}\n"
     ]
    }
   ],
   "source": [
    "a = {1, 2, 3, 4}\n",
    "b = {3, 4, 5, 6}\n",
    "\n",
    "\n",
    "print(a | b)\n",
    "print(a & b)\n",
    "\n",
    "print(a & b)\n",
    "\n",
    "print(a - b) \n",
    "\n",
    "print(a ^ b)"
   ]
  },
  {
   "cell_type": "code",
   "execution_count": 21,
   "id": "6658dd8c",
   "metadata": {},
   "outputs": [
    {
     "name": "stdout",
     "output_type": "stream",
     "text": [
      "True\n",
      "False\n"
     ]
    }
   ],
   "source": [
    "fruits = {\"apple\", \"banana\", \"cherry\"}\n",
    "\n",
    "print(\"apple\" in fruits)\n",
    "\n",
    "print(\"lemon\" in fruits)"
   ]
  },
  {
   "cell_type": "code",
   "execution_count": 23,
   "id": "1f1b7dee",
   "metadata": {},
   "outputs": [
    {
     "name": "stdout",
     "output_type": "stream",
     "text": [
      "jupyter==1.1.1\n",
      "python-dotenv==1.0.1\n",
      "httpx==0.27.2 \n",
      "numpy==1.26.4\n",
      "pandas==2.2.3\n",
      "openpyxl==3.1.5\n",
      "matplotlib==3.9.2\n",
      "pypdf==5.1.0\n",
      "pytest==8.3.3\n",
      "openai==1.54.4\n",
      "tiktoken==0.8.0\n",
      "Flask==3.1.0\n",
      "tavily-python==0.5.0\n",
      "pydantic==2.9.2\n",
      "llama-index==0.11.23\n",
      "langchain-core==0.3.18\n",
      "langchain-community==0.3.7\n",
      "langchain-openai==0.2.8\n",
      "langchain-text-splitters==0.3.2\n",
      "langgraph==0.2.48\n",
      "\n"
     ]
    }
   ],
   "source": [
    "try:\n",
    "    with open(\"../requirements.txt\", \"r\") as file:\n",
    "        data = file.read()\n",
    "        print(data)\n",
    "except:\n",
    "    print(\"エラーが発生しました\")"
   ]
  },
  {
   "cell_type": "code",
   "execution_count": 32,
   "id": "8cdcdb93",
   "metadata": {},
   "outputs": [
    {
     "name": "stdout",
     "output_type": "stream",
     "text": [
      "['jupyter==1.1.1\\n', 'python-dotenv==1.0.1\\n', 'httpx==0.27.2 \\n', 'numpy==1.26.4\\n', 'pandas==2.2.3\\n', 'openpyxl==3.1.5\\n', 'matplotlib==3.9.2\\n', 'pypdf==5.1.0\\n', 'pytest==8.3.3\\n', 'openai==1.54.4\\n', 'tiktoken==0.8.0\\n', 'Flask==3.1.0\\n', 'tavily-python==0.5.0\\n', 'pydantic==2.9.2\\n', 'llama-index==0.11.23\\n', 'langchain-core==0.3.18\\n', 'langchain-community==0.3.7\\n', 'langchain-openai==0.2.8\\n', 'langchain-text-splitters==0.3.2\\n', 'langgraph==0.2.48\\n']\n",
      "0 : jupyter==1.1.1\n",
      "1 : python-dotenv==1.0.1\n",
      "2 : httpx==0.27.2\n",
      "3 : numpy==1.26.4\n",
      "4 : pandas==2.2.3\n",
      "5 : openpyxl==3.1.5\n",
      "6 : matplotlib==3.9.2\n",
      "7 : pypdf==5.1.0\n",
      "8 : pytest==8.3.3\n",
      "9 : openai==1.54.4\n",
      "10 : tiktoken==0.8.0\n",
      "11 : Flask==3.1.0\n",
      "12 : tavily-python==0.5.0\n",
      "13 : pydantic==2.9.2\n",
      "14 : llama-index==0.11.23\n",
      "15 : langchain-core==0.3.18\n",
      "16 : langchain-community==0.3.7\n",
      "17 : langchain-openai==0.2.8\n",
      "18 : langchain-text-splitters==0.3.2\n",
      "19 : langgraph==0.2.48\n"
     ]
    }
   ],
   "source": [
    "try:\n",
    "    with open(\"../requirements.txt\", \"r\") as file:\n",
    "       lines = file.readlines()\n",
    "       print(lines)\n",
    "       for index, line in enumerate(lines):\n",
    "           print(f\"{index} : {line.strip()}\")\n",
    "except:\n",
    "    print(\"エラーが発生しました\")"
   ]
  },
  {
   "cell_type": "code",
   "execution_count": 27,
   "id": "441c4b64",
   "metadata": {},
   "outputs": [],
   "source": [
    "lines = [\"1st line\\n\", \"2nd line\\n\", \"3rd line\\n\"]\n",
    "\n",
    "try:\n",
    "    with open(\"sample.txt\", \"w\") as file:\n",
    "        #file.write(\"Hello World!\")\n",
    "        file.writelines(lines)\n",
    "except:\n",
    "    print(\"エラーが発生しました\")"
   ]
  },
  {
   "cell_type": "code",
   "execution_count": 33,
   "id": "3d093365",
   "metadata": {},
   "outputs": [],
   "source": [
    "import csv\n",
    "\n",
    "data = [\n",
    "    [\"name\", \"age\", \"city\"],\n",
    "    [\"Alice\", \"30\", \"New York\"],\n",
    "    [\"Bob\", \"25\", \"Los Angeles\"],\n",
    "    [\"Charlie\", \"35\", \"Chicago\"]\n",
    "]\n",
    "\n",
    "try:\n",
    "    with open(\"sample.csv\", mode=\"w\", encoding=\"utf-8\", newline=\"\") as file:\n",
    "        writer = csv.writer(file)\n",
    "        writer.writerows(data)\n",
    "except:\n",
    "    print(\"エラーが発生しました\")"
   ]
  },
  {
   "cell_type": "code",
   "execution_count": 40,
   "id": "57dc0da3",
   "metadata": {},
   "outputs": [],
   "source": [
    "import csv\n",
    "\n",
    "data = [\n",
    "    {\"name\": \"Alice\", \"age\": \"30\", \"city\": \"New York\"},\n",
    "    {\"name\": \"Bob\", \"age\": \"25\", \"city\": \"Los Angeles\"},\n",
    "    {\"name\": \"Charlie\", \"age\": \"35\", \"city\": \"Chicago\"}\n",
    "]\n",
    "\n",
    "try:\n",
    "    with open(\"sample2.csv\", mode=\"w\", encoding=\"utf-8\", newline=\"\") as file:\n",
    "        fieldnames = [\"name\", \"age\", \"city\"]\n",
    "        writer = csv.DictWriter(file, fieldnames=fieldnames)\n",
    "\n",
    "        writer.writeheader()\n",
    "        writer.writerows(data)\n",
    "except:\n",
    "    print(\"エラーが発生しました\")"
   ]
  },
  {
   "cell_type": "code",
   "execution_count": 39,
   "id": "46bc3d47",
   "metadata": {},
   "outputs": [
    {
     "name": "stdout",
     "output_type": "stream",
     "text": [
      "city\n",
      "New York\n",
      "Los Angeles\n",
      "Chicago\n"
     ]
    }
   ],
   "source": [
    "import csv\n",
    "\n",
    "try:\n",
    "    with open(\"sample.csv\", mode=\"r\", encoding=\"utf-8\") as file:\n",
    "        reader = csv.reader(file)\n",
    "        for row in reader:\n",
    "            print(row[2])\n",
    "except:\n",
    "    print(\"エラーが発生しました\")"
   ]
  },
  {
   "cell_type": "code",
   "execution_count": 50,
   "id": "705d1993",
   "metadata": {},
   "outputs": [
    {
     "name": "stdout",
     "output_type": "stream",
     "text": [
      "New York\n",
      "Los Angeles\n",
      "Chicago\n"
     ]
    }
   ],
   "source": [
    "import csv\n",
    "\n",
    "try:\n",
    "    with open(\"sample2.csv\", mode=\"r\", encoding=\"utf-8\") as file:\n",
    "        reader = csv.DictReader(file)\n",
    "        for row in reader:\n",
    "            print(row[\"city\"])\n",
    "except:\n",
    "    print(\"エラーが発生しました\")\n",
    "\n"
   ]
  },
  {
   "cell_type": "code",
   "execution_count": 46,
   "id": "70a376e3",
   "metadata": {},
   "outputs": [
    {
     "name": "stdout",
     "output_type": "stream",
     "text": [
      "{'name': 'Alice', 'age': '30', 'city': 'New York'}\n",
      "{'name': 'Bob', 'age': '25', 'city': 'Los Angeles'}\n",
      "{'name': 'Charlie', 'age': '35', 'city': 'Chicago'}\n"
     ]
    }
   ],
   "source": [
    "with open(\"sample2.csv\", mode=\"r\", encoding=\"utf-8\") as file:\n",
    "    reader = csv.DictReader(file)\n",
    "    for row in reader:\n",
    "        print(row)"
   ]
  },
  {
   "cell_type": "code",
   "execution_count": 51,
   "id": "5eb4cf11",
   "metadata": {},
   "outputs": [],
   "source": [
    "import json\n",
    "\n",
    "data = {\n",
    "    \"name\": \"Alice\",\n",
    "    \"age\": 30,\n",
    "    \"city\": \"New York\",\n",
    "    \"hobbies\": [\"reading\", \"traveling\", \"coding\"]\n",
    "}\n",
    "\n",
    "with open(\"data.json\", mode=\"w\", encoding=\"utf-8\") as file:\n",
    "    json.dump(data, file, indent=4)\n",
    "\n"
   ]
  },
  {
   "cell_type": "code",
   "execution_count": 56,
   "id": "2a02f4a7",
   "metadata": {},
   "outputs": [
    {
     "name": "stdout",
     "output_type": "stream",
     "text": [
      "{'name': 'Alice', 'age': 30, 'city': 'New York', 'hobbies': ['reading', 'traveling', 'coding']}\n",
      "<class 'dict'>\n",
      "['reading', 'traveling', 'coding']\n"
     ]
    }
   ],
   "source": [
    "import json\n",
    "\n",
    "with open(\"data.json\", mode=\"r\", encoding=\"utf-8\") as file:\n",
    "    data = json.load(file)\n",
    "    print(data)\n",
    "    print(type(data))\n",
    "    print(data[\"hobbies\"])"
   ]
  },
  {
   "cell_type": "code",
   "execution_count": null,
   "id": "2db8af49",
   "metadata": {},
   "outputs": [],
   "source": []
  }
 ],
 "metadata": {
  "kernelspec": {
   "display_name": ".venv",
   "language": "python",
   "name": "python3"
  },
  "language_info": {
   "codemirror_mode": {
    "name": "ipython",
    "version": 3
   },
   "file_extension": ".py",
   "mimetype": "text/x-python",
   "name": "python",
   "nbconvert_exporter": "python",
   "pygments_lexer": "ipython3",
   "version": "3.12.10"
  }
 },
 "nbformat": 4,
 "nbformat_minor": 5
}
