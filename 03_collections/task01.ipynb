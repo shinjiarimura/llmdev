{
 "cells": [
  {
   "cell_type": "code",
   "execution_count": 13,
   "id": "ad0fe346",
   "metadata": {},
   "outputs": [
    {
     "name": "stdout",
     "output_type": "stream",
     "text": [
      "平均点: 80.0\n",
      "最高点: 90\n",
      "最低点: 70\n",
      "平均以上の学生数: 2\n"
     ]
    }
   ],
   "source": [
    "#grades = [85, 90, 78, 92, 88]\n",
    "grades = [70, 75, 80, 85, 90]\n",
    "\n",
    "#事前処理\n",
    "student_count = len(grades)\n",
    "\n",
    "#平均点算出\n",
    "average_score = 0\n",
    "total_score = 0\n",
    "i = 0\n",
    "while i < student_count:\n",
    "    total_score += grades[i]\n",
    "    i += 1\n",
    "\n",
    "average_score = total_score / student_count\n",
    "print(f\"平均点: {average_score}\")\n",
    "\n",
    "#最高点と最低点算出\n",
    "grades.sort()\n",
    "print(f\"最高点: {grades[-1]}\")\n",
    "print(f\"最低点: {grades[0]}\")\n",
    "\n",
    "#平均以上の学生数カウント\n",
    "above_average_count = 0\n",
    "j = 0\n",
    "while j < student_count:\n",
    "    if grades[j] > average_score:\n",
    "        above_average_count += 1\n",
    "    j += 1\n",
    "print(f\"平均以上の学生数: {above_average_count}\")\n"
   ]
  },
  {
   "cell_type": "code",
   "execution_count": null,
   "id": "e5b98d2f",
   "metadata": {},
   "outputs": [
    {
     "name": "stdout",
     "output_type": "stream",
     "text": [
      "平均点: 86.60\n",
      "最高点: 92\n",
      "最低点: 78\n",
      "平均以上の学生数: 3\n"
     ]
    }
   ],
   "source": [
    "#ブラッシュアップ案\n",
    "from statistics import mean\n",
    "\n",
    "grades = [85, 90, 78, 92, 88]\n",
    "#grades = [70, 75, 80, 85, 90]\n",
    "\n",
    "avg = mean(grades) \n",
    "hi  = max(grades)\n",
    "lo  = min(grades)\n",
    "above = sum(g >= avg for g in grades)\n",
    "\n",
    "print(f\"平均点: {avg:.2f}\")\n",
    "print(f\"最高点: {hi}\")\n",
    "print(f\"最低点: {lo}\")\n",
    "print(f\"平均以上の学生数: {above}\")"
   ]
  },
  {
   "cell_type": "code",
   "execution_count": null,
   "id": "f9f2eb6d",
   "metadata": {},
   "outputs": [],
   "source": []
  }
 ],
 "metadata": {
  "kernelspec": {
   "display_name": ".venv",
   "language": "python",
   "name": "python3"
  },
  "language_info": {
   "codemirror_mode": {
    "name": "ipython",
    "version": 3
   },
   "file_extension": ".py",
   "mimetype": "text/x-python",
   "name": "python",
   "nbconvert_exporter": "python",
   "pygments_lexer": "ipython3",
   "version": "3.12.10"
  }
 },
 "nbformat": 4,
 "nbformat_minor": 5
}
