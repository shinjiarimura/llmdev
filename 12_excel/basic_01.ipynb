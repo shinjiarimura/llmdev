{
 "cells": [
  {
   "cell_type": "code",
   "execution_count": 2,
   "id": "fbcbb612",
   "metadata": {},
   "outputs": [],
   "source": [
    "import os\n",
    "from dotenv import load_dotenv\n",
    "from openai import OpenAI\n",
    "import pandas as pd\n",
    "\n",
    "load_dotenv(\"../.env\")\n",
    "client = OpenAI(api_key=os.environ['API_KEY'])\n",
    "\n",
    "MODEL_NAME = \"gpt-4o-mini\"\n"
   ]
  },
  {
   "cell_type": "code",
   "execution_count": 3,
   "id": "48a0110a",
   "metadata": {},
   "outputs": [
    {
     "data": {
      "text/html": [
       "<div>\n",
       "<style scoped>\n",
       "    .dataframe tbody tr th:only-of-type {\n",
       "        vertical-align: middle;\n",
       "    }\n",
       "\n",
       "    .dataframe tbody tr th {\n",
       "        vertical-align: top;\n",
       "    }\n",
       "\n",
       "    .dataframe thead th {\n",
       "        text-align: right;\n",
       "    }\n",
       "</style>\n",
       "<table border=\"1\" class=\"dataframe\">\n",
       "  <thead>\n",
       "    <tr style=\"text-align: right;\">\n",
       "      <th></th>\n",
       "      <th>カテゴリー</th>\n",
       "      <th>商品コード</th>\n",
       "      <th>商品名</th>\n",
       "      <th>売上日</th>\n",
       "      <th>単価</th>\n",
       "      <th>数量</th>\n",
       "      <th>原価</th>\n",
       "    </tr>\n",
       "  </thead>\n",
       "  <tbody>\n",
       "    <tr>\n",
       "      <th>0</th>\n",
       "      <td>食品</td>\n",
       "      <td>1001</td>\n",
       "      <td>りんご</td>\n",
       "      <td>2023-01-01</td>\n",
       "      <td>200</td>\n",
       "      <td>50</td>\n",
       "      <td>120</td>\n",
       "    </tr>\n",
       "    <tr>\n",
       "      <th>1</th>\n",
       "      <td>食品</td>\n",
       "      <td>1002</td>\n",
       "      <td>バナナ</td>\n",
       "      <td>2023-01-01</td>\n",
       "      <td>150</td>\n",
       "      <td>100</td>\n",
       "      <td>80</td>\n",
       "    </tr>\n",
       "    <tr>\n",
       "      <th>2</th>\n",
       "      <td>食品</td>\n",
       "      <td>1003</td>\n",
       "      <td>牛乳</td>\n",
       "      <td>2023-01-02</td>\n",
       "      <td>180</td>\n",
       "      <td>80</td>\n",
       "      <td>100</td>\n",
       "    </tr>\n",
       "    <tr>\n",
       "      <th>3</th>\n",
       "      <td>衣服</td>\n",
       "      <td>2001</td>\n",
       "      <td>Tシャツ</td>\n",
       "      <td>2023-01-02</td>\n",
       "      <td>1500</td>\n",
       "      <td>20</td>\n",
       "      <td>800</td>\n",
       "    </tr>\n",
       "    <tr>\n",
       "      <th>4</th>\n",
       "      <td>衣服</td>\n",
       "      <td>2002</td>\n",
       "      <td>ジーンズ</td>\n",
       "      <td>2023-01-03</td>\n",
       "      <td>5000</td>\n",
       "      <td>10</td>\n",
       "      <td>2500</td>\n",
       "    </tr>\n",
       "  </tbody>\n",
       "</table>\n",
       "</div>"
      ],
      "text/plain": [
       "  カテゴリー  商品コード   商品名        売上日    単価   数量    原価\n",
       "0    食品   1001   りんご 2023-01-01   200   50   120\n",
       "1    食品   1002   バナナ 2023-01-01   150  100    80\n",
       "2    食品   1003    牛乳 2023-01-02   180   80   100\n",
       "3    衣服   2001  Tシャツ 2023-01-02  1500   20   800\n",
       "4    衣服   2002  ジーンズ 2023-01-03  5000   10  2500"
      ]
     },
     "execution_count": 3,
     "metadata": {},
     "output_type": "execute_result"
    }
   ],
   "source": [
    "df = pd.read_excel('サンプルデータ.xlsx', sheet_name='売上データ')\n",
    "df.head()\n"
   ]
  },
  {
   "cell_type": "code",
   "execution_count": 4,
   "id": "3ea12142",
   "metadata": {},
   "outputs": [
    {
     "name": "stdout",
     "output_type": "stream",
     "text": [
      "売上データ:\n",
      "    カテゴリー 商品コード      商品名         売上日    単価   数量    原価\n",
      "0      食品  1001      りんご  2023-01-01   200   50   120\n",
      "1      食品  1002      バナナ  2023-01-01   150  100    80\n",
      "2      食品  1003       牛乳  2023-01-02   180   80   100\n",
      "3      衣服  2001     Tシャツ  2023-01-02  1500   20   800\n",
      "4      衣服  2002     ジーンズ  2023-01-03  5000   10  2500\n",
      "..    ...   ...      ...         ...   ...  ...   ...\n",
      "235    衣服  2077   レインパンツ  2023-04-28  2000   18  1000\n",
      "236    食品  1085      ザクロ  2023-04-29   600   40   300\n",
      "237   日用品  3077    バスブラシ  2023-04-29   400   60   200\n",
      "238    衣服  2078  レインシューズ  2023-04-30  2500   15  1250\n",
      "239    食品  1086    ココナッツ  2023-04-30   300   80   150\n",
      "\n",
      "[240 rows x 7 columns]\n",
      "この売上データの傾向を分析してください。\n"
     ]
    }
   ],
   "source": [
    "sales_data_text = df.astype(str)\n",
    "prompt_text = f\"売上データ:\\n{sales_data_text}\\nこの売上データの傾向を分析してください。\"\n",
    "print(prompt_text)"
   ]
  },
  {
   "cell_type": "code",
   "execution_count": 5,
   "id": "5a0a95c5",
   "metadata": {},
   "outputs": [
    {
     "name": "stdout",
     "output_type": "stream",
     "text": [
      "売上データの分析を行うために、いくつかの重要な指標やトレンドを考慮する必要があります。以下に示す各分析ポイントをもとに、売上データの傾向をまとめます。\n",
      "\n",
      "### 1. **売上とカテゴリーの分析**\n",
      "   - 各カテゴリー（食品、衣服、日用品）ごとの総売上や売上数量を比較します。これにより、顧客がどのカテゴリーに最も関心を持っているのかを把握できます。\n",
      "\n",
      "### 2. **時間の経過による売上の傾向**\n",
      "   - 売上日を基に、時間ごとの売上トレンド（例えば、月別、週別、日別）を可視化します。これにより、季節性や特定のキャンペーン期間における売上の変動を確認できます。\n",
      "\n",
      "### 3. **利益率の分析**\n",
      "   - 売上単価、数量、原価をもとに、各商品の粗利益を計算し、利益率を算出します。利益率が高い商品と低い商品を特定することで、在庫の最適化やプロモーション戦略を練りやすくなります。\n",
      "\n",
      "### 4. **人気商品ランキング**\n",
      "   - 各商品の売上数量や売上金額に基づいて、人気商品をランキングします。これにより、どの商品が最も販売されているのか、または販売が伸び悩んでいるのかを把握できます。\n",
      "\n",
      "### 5. **顧客セグメンテーションとターゲット施策**\n",
      "   - 特定の商品やカテゴリーへの売上が高い顧客層（年齢、性別、地域など）があれば、それに適したマーケティング施策を考えることができます。\n",
      "\n",
      "### 6. **異常値やトレンドの強調**\n",
      "   - 特定の日や月で異常に売上が高い、または低い場合、それに対する原因分析を行います。この際、競合状況やキャンペーンとの関連を考察することが重要です。\n",
      "\n",
      "### 7. **販売数量の平均と散布度のチェック**\n",
      "   - 売上数量の平均値と標準偏差を計算することで、販売数量の変動を理解。特に、極端に多くの販売があった商品の取り扱いや在庫管理に関する提言が可能になります。\n",
      "\n",
      "### 8. **競合分析**\n",
      "   - 業界内の競合商品やサービスを考慮し、価格設定やプロモーション戦略に対するフィードバックを行います。\n",
      "\n",
      "### 結論\n",
      "この売上データを基に、具体的な分析を行うことで、企業は売上向上のための明確な戦略を策定できます。顧客ニーズに基づいたマーケティング施策や効果的な在庫管理を行うことで、収益性の最大化を図ることが可能です。将来的な施策として、顧客の購買履歴のさらに深い分析や、顧客満足度調査を実施することも推奨されます。\n"
     ]
    }
   ],
   "source": [
    "# 3. OpenAI APIの呼び出し\n",
    "\n",
    "role = \"あなたはマーケティング分野に精通したデータサイエンティストです。企業の成長をサポートするために、効果的なインサイトを提供します。\"\n",
    "\n",
    "response = client.chat.completions.create(\n",
    "    model=MODEL_NAME,\n",
    "    messages=[\n",
    "        {\"role\": \"system\", \"content\": role},\n",
    "        {\"role\": \"user\", \"content\": prompt_text},\n",
    "    ],\n",
    ")\n",
    "\n",
    "print(response.choices[0].message.content.strip())"
   ]
  },
  {
   "cell_type": "code",
   "execution_count": 7,
   "id": "5cb3e63d",
   "metadata": {},
   "outputs": [
    {
     "name": "stdout",
     "output_type": "stream",
     "text": [
      "                                                   結果\n",
      "0   売上データの分析を行うために、いくつかの重要な指標やトレンドを考慮する必要があります。以下に...\n",
      "1                                                    \n",
      "2                              ### 1. **売上とカテゴリーの分析**\n",
      "3      - 各カテゴリー（食品、衣服、日用品）ごとの総売上や売上数量を比較します。これにより、...\n",
      "4                                                    \n",
      "5                            ### 2. **時間の経過による売上の傾向**\n",
      "6      - 売上日を基に、時間ごとの売上トレンド（例えば、月別、週別、日別）を可視化します。こ...\n",
      "7                                                    \n",
      "8                                   ### 3. **利益率の分析**\n",
      "9      - 売上単価、数量、原価をもとに、各商品の粗利益を計算し、利益率を算出します。利益率が...\n",
      "10                                                   \n",
      "11                               ### 4. **人気商品ランキング**\n",
      "12     - 各商品の売上数量や売上金額に基づいて、人気商品をランキングします。これにより、どの...\n",
      "13                                                   \n",
      "14                     ### 5. **顧客セグメンテーションとターゲット施策**\n",
      "15     - 特定の商品やカテゴリーへの売上が高い顧客層（年齢、性別、地域など）があれば、それに...\n",
      "16                                                   \n",
      "17                             ### 6. **異常値やトレンドの強調**\n",
      "18     - 特定の日や月で異常に売上が高い、または低い場合、それに対する原因分析を行います。こ...\n",
      "19                                                   \n",
      "20                        ### 7. **販売数量の平均と散布度のチェック**\n",
      "21     - 売上数量の平均値と標準偏差を計算することで、販売数量の変動を理解。特に、極端に多く...\n",
      "22                                                   \n",
      "23                                    ### 8. **競合分析**\n",
      "24     - 業界内の競合商品やサービスを考慮し、価格設定やプロモーション戦略に対するフィードバ...\n",
      "25                                                   \n",
      "26                                             ### 結論\n",
      "27  この売上データを基に、具体的な分析を行うことで、企業は売上向上のための明確な戦略を策定できま...\n"
     ]
    }
   ],
   "source": [
    "# 4. 分析結果をデータフレームに変換\n",
    "\n",
    "result_list = response.choices[0].message.content.strip().split(\"\\n\")\n",
    "df_out = pd.DataFrame(result_list, columns=['結果'])\n",
    "print(df_out)"
   ]
  },
  {
   "cell_type": "code",
   "execution_count": 8,
   "id": "c067592e",
   "metadata": {},
   "outputs": [],
   "source": [
    "# 5. 結果をExcelファイルに保存\n",
    "\n",
    "df_out.to_excel(\"売上データ分析結果.xlsx\", index=False)"
   ]
  },
  {
   "cell_type": "code",
   "execution_count": 9,
   "id": "f8bbea81",
   "metadata": {},
   "outputs": [
    {
     "name": "stdout",
     "output_type": "stream",
     "text": [
      "処理を開始します\n",
      "Excelファイルに分析結果を保存しました\n"
     ]
    }
   ],
   "source": [
    "# ワークフロー化\n",
    "\n",
    "print(\"処理を開始します\")\n",
    "\n",
    "# ファイル読み込み\n",
    "df = pd.read_excel('サンプルデータ.xlsx', sheet_name='売上データ')\n",
    "\n",
    "# テキスト形式に変換\n",
    "sales_data_text = df.astype(str)\n",
    "prompt_text = f\"売上データ:\\n{sales_data_text}\\nこの売上データの傾向を分析してください。\"\n",
    "\n",
    "# OpenAIのAPI呼び出し\n",
    "role = \"あなたはマーケティング分野に精通したデータサイエンティストです。企業の成長をサポートするために、効果的なインサイトを提供します。\"\n",
    "response = client.chat.completions.create(\n",
    "    model=MODEL_NAME,\n",
    "    messages=[\n",
    "        {\"role\": \"system\", \"content\": role},\n",
    "        {\"role\": \"user\", \"content\": prompt_text},\n",
    "    ],\n",
    ")\n",
    "\n",
    "# データフレーム形式に変換\n",
    "result_list = response.choices[0].message.content.strip().split(\"\\n\")\n",
    "df_out = pd.DataFrame(result_list, columns=['結果'])\n",
    "\n",
    "# エクセルに保存\n",
    "df_out.to_excel(\"売上データ分析結果.xlsx\", index=False)\n",
    "\n",
    "print(\"Excelファイルに分析結果を保存しました\")"
   ]
  },
  {
   "cell_type": "code",
   "execution_count": null,
   "id": "461e42d7",
   "metadata": {},
   "outputs": [],
   "source": []
  }
 ],
 "metadata": {
  "kernelspec": {
   "display_name": ".venv",
   "language": "python",
   "name": "python3"
  },
  "language_info": {
   "codemirror_mode": {
    "name": "ipython",
    "version": 3
   },
   "file_extension": ".py",
   "mimetype": "text/x-python",
   "name": "python",
   "nbconvert_exporter": "python",
   "pygments_lexer": "ipython3",
   "version": "3.12.10"
  }
 },
 "nbformat": 4,
 "nbformat_minor": 5
}
