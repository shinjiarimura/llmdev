{
 "cells": [
  {
   "cell_type": "code",
   "execution_count": 8,
   "id": "ea993419",
   "metadata": {},
   "outputs": [],
   "source": [
    "import os\n",
    "from dotenv import load_dotenv\n",
    "from openai import OpenAI\n",
    "import pandas as pd\n",
    "\n",
    "load_dotenv(\"../.env\")\n",
    "client = OpenAI(api_key=os.environ['API_KEY'])\n",
    "\n",
    "MODEL_NAME = \"gpt-4o-mini\""
   ]
  },
  {
   "cell_type": "code",
   "execution_count": 9,
   "id": "2e045380",
   "metadata": {},
   "outputs": [],
   "source": [
    "# データ読み込み\n",
    "def load_and_process_data(file_path):\n",
    "    df = pd.read_excel(file_path, sheet_name='売上データ')\n",
    "\n",
    "    df[\"売上\"] = df[\"単価\"] * df[\"数量\"]\n",
    "\n",
    "    df[\"売上日\"] = pd.to_datetime(df[\"売上日\"])\n",
    "\n",
    "    df[\"年月\"] = df[\"売上日\"].dt.strftime('%Y-%m')\n",
    "\n",
    "    return df"
   ]
  },
  {
   "cell_type": "code",
   "execution_count": 11,
   "id": "1efd02e7",
   "metadata": {},
   "outputs": [],
   "source": [
    "# 集計\n",
    "def sum_sales_data(df):\n",
    "    pivot_table = pd.pivot_table(\n",
    "        df,\n",
    "        index='カテゴリー',\n",
    "        columns='年月',\n",
    "        values='売上',\n",
    "        aggfunc='sum',\n",
    "        fill_value=0\n",
    "    )\n",
    "\n",
    "    return pivot_table"
   ]
  },
  {
   "cell_type": "code",
   "execution_count": 12,
   "id": "c9deabf2",
   "metadata": {},
   "outputs": [],
   "source": [
    "# プロンプト作成\n",
    "def convert_to_prompt(df, pivot_table):\n",
    "    sales_data_text = df.astype(str)\n",
    "    pivot_table_text = pivot_table.astype(str)\n",
    "\n",
    "    prompt_text = f\"\"\"\n",
    "    売上データ:\n",
    "    {sales_data_text}\n",
    "    月ごとのカテゴリー別売上合計：\n",
    "    {pivot_table_text}\n",
    "    上記の「売上データ」と「月ごとのカテゴリー別売上合計」をもとに、カテゴリー毎の売上戦略を考案してください。\n",
    "    \"\"\"\n",
    "\n",
    "    return prompt_text"
   ]
  },
  {
   "cell_type": "code",
   "execution_count": 13,
   "id": "cfa64715",
   "metadata": {},
   "outputs": [],
   "source": [
    "# API呼び出し\n",
    "\n",
    "def get_openai_response(client, prompt_text, model_name=\"gpt-4o-mini\"):\n",
    "    role = \"あなたはマーケティング分野に精通したデータサイエンティストです。企業の成長をサポートするために、効果的なインサイトを提供します。\"\n",
    "\n",
    "    response = client.chat.completions.create(\n",
    "        model=model_name,\n",
    "        messages=[\n",
    "            {\"role\": \"system\", \"content\": role},\n",
    "            {\"role\": \"user\", \"content\": prompt_text},\n",
    "        ],\n",
    "    )\n",
    "\n",
    "    result = response.choices[0].message.content.strip()\n",
    "\n",
    "    return result"
   ]
  },
  {
   "cell_type": "code",
   "execution_count": 14,
   "id": "8deeaeef",
   "metadata": {},
   "outputs": [],
   "source": [
    "# AIの出力を保存\n",
    "def save_result_to_file(result, file_path=\"カテゴリー毎の売上戦略.md\"):\n",
    "    with open(file_path, mode=\"w\", encoding=\"utf-8\") as file:\n",
    "        file.write(result)\n",
    "        "
   ]
  },
  {
   "cell_type": "code",
   "execution_count": 15,
   "id": "9babea32",
   "metadata": {},
   "outputs": [],
   "source": [
    "# メイン処理\n",
    "def main():\n",
    "    print(\"処理を開始します。\")\n",
    "\n",
    "    print(\"（1/5）データの読み込みと前処理\")\n",
    "    df = load_and_process_data('サンプルデータ.xlsx')\n",
    "\n",
    "    print(\"（2/5）集計\")\n",
    "    pivot_table = sum_sales_data(df)\n",
    "\n",
    "    print(\"（3/5）プロンプト生成\")\n",
    "    prompt_text = convert_to_prompt(df, pivot_table)\n",
    "\n",
    "    print(\"（4/5）OpenAI APIからの応答を取得\")\n",
    "    result = get_openai_response(client, prompt_text)\n",
    "\n",
    "    print(\"（5/5）結果をファイルに保存\")\n",
    "    save_result_to_file(result)\n",
    "\n",
    "    print(\"分析結果を保存しました。\")"
   ]
  },
  {
   "cell_type": "code",
   "execution_count": 16,
   "id": "c2bc8a4c",
   "metadata": {},
   "outputs": [
    {
     "name": "stdout",
     "output_type": "stream",
     "text": [
      "処理を開始します。\n",
      "（1/5）データの読み込みと前処理\n",
      "（2/5）集計\n",
      "（3/5）プロンプト生成\n",
      "（4/5）OpenAI APIからの応答を取得\n",
      "（5/5）結果をファイルに保存\n",
      "分析結果を保存しました。\n"
     ]
    }
   ],
   "source": [
    "main()"
   ]
  },
  {
   "cell_type": "code",
   "execution_count": null,
   "id": "8c796082",
   "metadata": {},
   "outputs": [],
   "source": []
  }
 ],
 "metadata": {
  "kernelspec": {
   "display_name": ".venv",
   "language": "python",
   "name": "python3"
  },
  "language_info": {
   "codemirror_mode": {
    "name": "ipython",
    "version": 3
   },
   "file_extension": ".py",
   "mimetype": "text/x-python",
   "name": "python",
   "nbconvert_exporter": "python",
   "pygments_lexer": "ipython3",
   "version": "3.12.10"
  }
 },
 "nbformat": 4,
 "nbformat_minor": 5
}
