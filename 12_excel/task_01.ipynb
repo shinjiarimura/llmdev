{
 "cells": [
  {
   "cell_type": "code",
   "execution_count": null,
   "id": "02581ad5",
   "metadata": {},
   "outputs": [],
   "source": [
    "import os\n",
    "import json\n",
    "from dotenv import load_dotenv\n",
    "from openai import OpenAI\n",
    "import pandas as pd\n",
    "\n",
    "load_dotenv(\"../.env\")\n",
    "\n",
    "client = OpenAI(api_key=os.environ['API_KEY'])\n",
    "\n",
    "MODEL_NAME = \"gpt-4o-mini\"\n"
   ]
  },
  {
   "cell_type": "code",
   "execution_count": 10,
   "id": "062df3c2",
   "metadata": {},
   "outputs": [],
   "source": [
    "from openai.types.chat import ChatCompletionToolParam\n",
    "\n",
    "tools = [\n",
    "    ChatCompletionToolParam(\n",
    "        {\n",
    "            \"type\": \"function\",\n",
    "            \"function\": {\n",
    "                \"name\": \"set_tags\",\n",
    "                \"description\": \"社内ツールのNPSアンケートから得られたユーザーの「コメントのリスト」から、コメントに対して適切なタグを付与する。\",\n",
    "                \"parameters\": {\n",
    "                    \"type\": \"object\",\n",
    "                    \"properties\": {\n",
    "                        \"comment_tags\": {\n",
    "                            \"type\": \"array\",\n",
    "                            \"items\": {\n",
    "                                \"comment\": {\n",
    "                                    \"type\": \"string\",\n",
    "                                    \"description\": \"タグつけ対象のコメント\"\n",
    "                                },\n",
    "                                \"positive\": {\n",
    "                                    \"type\": \"string\",\n",
    "                                    \"description\": \"ポジティブなコメント\"\n",
    "                                },\n",
    "                                \"negative\": {\n",
    "                                    \"type\": \"string\",\n",
    "                                    \"description\": \"ネガティブなコメント\"\n",
    "                                },\n",
    "                            },\n",
    "                        },\n",
    "                    },\n",
    "                    \"required\": [\"comment\", \"positive\", \"negative\"],\n",
    "                },\n",
    "            },\n",
    "        }\n",
    "    )\n",
    "]"
   ]
  },
  {
   "cell_type": "code",
   "execution_count": null,
   "id": "9d54ee96",
   "metadata": {},
   "outputs": [
    {
     "name": "stdout",
     "output_type": "stream",
     "text": [
      "処理スタート\n",
      "処理終了\n"
     ]
    }
   ],
   "source": [
    "print(\"処理スタート\")\n",
    "\n",
    "df = pd.read_excel('サンプルデータ.xlsx', sheet_name='コメント')\n",
    "\n",
    "product_data_text = df.astype(str)\n",
    "prompt_text = f\"\"\"\n",
    "あなたは、\n",
    "下記に示す社内ツールのNPSアンケートから得られたユーザーの「コメントのリスト」から、\n",
    "コメントに対して適切なタグを付与するアシスタントです。\n",
    "\n",
    "タグは以下の6種類です。\n",
    "#タグ\n",
    "positive: ポジティブなコメント\n",
    "negative: ネガティブなコメント\n",
    "\n",
    "あなたは以下のルールに従って、コメントに対して適切なタグのみを返します。\n",
    "あなたは例や説明など補足の情報を出力してはいけません。\n",
    "# ルール\n",
    "1. コメントに対して複数のタグを付与できる。\n",
    "2. 出力は必ず JSON 形式で返してください。JSON 以外の文章は出力しないでください。\n",
    "\n",
    "# コメントのリスト\n",
    "{product_data_text}\n",
    "\"\"\"\n",
    "\n",
    "response = client.chat.completions.create(\n",
    "    model=MODEL_NAME,\n",
    "    messages=[\n",
    "        {\"role\": \"user\", \"content\": prompt_text},\n",
    "    ],\n",
    "    tools=tools,\n",
    "    tool_choice={\n",
    "        \"type\": \"function\",\n",
    "        \"function\": {\"name\": \"set_tags\"}\n",
    "    },\n",
    "    response_format={\"type\": \"json_object\"}\n",
    ")\n",
    "\n",
    "tool = response.choices[0].message.tool_calls[0]\n",
    "\n",
    "data = json.loads(tool.function.arguments)\n",
    "\n",
    "df_out = pd.DataFrame(data['comment_tags'])\n",
    "\n",
    "df_out.to_excel(\"コメント分類.xlsx\", index=False)\n",
    "\n",
    "\n",
    "print(\"処理終了\")\n",
    "\n"
   ]
  },
  {
   "cell_type": "code",
   "execution_count": null,
   "id": "0245363b",
   "metadata": {},
   "outputs": [],
   "source": []
  }
 ],
 "metadata": {
  "kernelspec": {
   "display_name": ".venv",
   "language": "python",
   "name": "python3"
  },
  "language_info": {
   "codemirror_mode": {
    "name": "ipython",
    "version": 3
   },
   "file_extension": ".py",
   "mimetype": "text/x-python",
   "name": "python",
   "nbconvert_exporter": "python",
   "pygments_lexer": "ipython3",
   "version": "3.12.10"
  }
 },
 "nbformat": 4,
 "nbformat_minor": 5
}
