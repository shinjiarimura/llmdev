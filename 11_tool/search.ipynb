{
 "cells": [
  {
   "cell_type": "code",
   "execution_count": 9,
   "id": "cff843e9",
   "metadata": {},
   "outputs": [],
   "source": [
    "import os\n",
    "import json\n",
    "from dotenv import load_dotenv\n",
    "from openai import OpenAI\n",
    "from openai.types.chat import ChatCompletionToolParam\n",
    "from tavily import TavilyClient\n",
    "\n",
    "load_dotenv(\"../.env\")\n",
    "client = OpenAI(api_key=os.environ['API_KEY'])\n",
    "TAVILY_API_KEY = os.environ['TAVILY_API_KEY']\n",
    "MODEL_NAME = \"gpt-4o-mini\""
   ]
  },
  {
   "cell_type": "code",
   "execution_count": 10,
   "id": "9f4ac61b",
   "metadata": {},
   "outputs": [],
   "source": [
    "# 検索結果を返す関数の作成\n",
    "def get_search_result(question):\n",
    "    client = TavilyClient(api_key=TAVILY_API_KEY)\n",
    "    response = client.search(question)\n",
    "    return json.dumps({\"result\": response[\"results\"]})\n"
   ]
  },
  {
   "cell_type": "code",
   "execution_count": 11,
   "id": "4dd3a64d",
   "metadata": {},
   "outputs": [
    {
     "data": {
      "text/plain": [
       "{'result': [{'url': 'https://www.jalan.net/event/cit_462220000/',\n",
       "   'title': '奄美市のイベントランキング - じゃらんnet',\n",
       "   'content': '「あまみシマ博覧会」と題し、奄美群島の自然や食、文化に親しめる体験プログラムが各地で開催されます。大島紬の泥染めや、夜光貝磨きなどの伝統工芸、郷土料理作り、奄美',\n",
       "   'score': 0.79119295,\n",
       "   'raw_content': None},\n",
       "  {'url': 'https://www.neriyakanaya.jp/contents/oshima_exp',\n",
       "   'title': '奄美大島の観光・イベント情報 - ねりやかなや',\n",
       "   'content': '紬の日（奄美市） 1月5日は「紬の日」で、昭和53年に本場奄美大島紬の振興による豊かなまちづくりを推進するために制定。 さまざまなイベントを開催します。 紬の日（奄美市）.',\n",
       "   'score': 0.7237202,\n",
       "   'raw_content': None},\n",
       "  {'url': 'https://x.com/amamaru_event',\n",
       "   'title': '奄美 まるごとイベント情報局（AMA-MARU ... - X',\n",
       "   'content': '奄美大島◦群島に関連する色んなイベントをご紹介します♪ 奄美の豆知識や奄美あるあるなどもお届けしますよ！奄美好きさんフォローしてね！管理人は奄美大島出身のしっし',\n",
       "   'score': 0.67885995,\n",
       "   'raw_content': None},\n",
       "  {'url': 'https://amakannext.com/?cat=8',\n",
       "   'title': '企画・イベント - 奄美観光グループの情報サイト「奄観NEXT」',\n",
       "   'content': '／本日は 花火大会です＼ ... 奄美市市制施行20周年記念「第62回奄美まつり」2日目は、花火大会です！ 花火だよ！全員集合場所：御殿浜公園時間帯：17:00～22:00主催：あまみエフエム',\n",
       "   'score': 0.6786044,\n",
       "   'raw_content': None},\n",
       "  {'url': 'https://www.city.amami.lg.jp/cgi-bin/event_cal_multi/calendar.cgi',\n",
       "   'title': 'イベントカレンダー｜鹿児島県奄美市',\n",
       "   'content': 'Missing: 教え て',\n",
       "   'score': 0.6601948,\n",
       "   'raw_content': None}]}"
      ]
     },
     "execution_count": 11,
     "metadata": {},
     "output_type": "execute_result"
    }
   ],
   "source": [
    "# テスト\n",
    "ret = get_search_result(\"奄美市でのイベントを教えて\")\n",
    "json.loads(ret)"
   ]
  },
  {
   "cell_type": "code",
   "execution_count": 17,
   "id": "5ef270d3",
   "metadata": {},
   "outputs": [],
   "source": [
    "def define_tools():\n",
    "    print(\"------define_tools(ツール定義)------\")\n",
    "    return [\n",
    "        ChatCompletionToolParam(\n",
    "            {\n",
    "                \"type\": \"function\",\n",
    "                \"function\": {\n",
    "                    \"name\": \"get_search_result\",\n",
    "                    \"description\": \"最近一ヵ月のイベント開催予定などネット検索が必要な場合に、質問文の検索結果を取得する\",\n",
    "                    \"parameters\": {\n",
    "                        \"type\": \"object\",\n",
    "                        \"properties\": {\n",
    "                            \"question\": {\"type\": \"string\", \"description\": \"質問文\"}\n",
    "                        },\n",
    "                        \"required\": [\"question\"],\n",
    "                    },\n",
    "                },\n",
    "            }\n",
    "        )\n",
    "    ]"
   ]
  },
  {
   "cell_type": "code",
   "execution_count": null,
   "id": "d55d833a",
   "metadata": {},
   "outputs": [],
   "source": [
    "# 言語モデルへの質問を行う関数\n",
    "def ask_question(question, tools):\n",
    "    response = client.chat.completions.create(\n",
    "        model=MODEL_NAME,\n",
    "        messages=[{\"role\": \"user\", \"content\": question}],\n",
    "        tools=tools,\n",
    "        tool_choice=\"auto\",\n",
    "    )\n",
    "    return response\n"
   ]
  },
  {
   "cell_type": "code",
   "execution_count": null,
   "id": "8ffba5c5",
   "metadata": {},
   "outputs": [],
   "source": [
    "# ツール呼び出しが必要な場合の処理を行う関数\n",
    "\n",
    "def handle_tool_call(response, question):\n",
    "    # 関数の実行と結果取得\n",
    "    tool = response.choices[0].message.tool_calls[0]\n",
    "    function_name = tool.function.name\n",
    "    arguments = json.loads(tool.function.arguments)\n",
    "    function_response = globals()[function_name](**arguments)\n",
    "\n",
    "    # 関数の実行結果をmessagesに加えて再度言語モデルを呼出\n",
    "    response_after_tool_call = client.chat.completions.create(\n",
    "        model=MODEL_NAME,\n",
    "        messages=[\n",
    "            {\"role\": \"user\", \"content\": question},\n",
    "            response.choices[0].message,\n",
    "            {\n",
    "                \"tool_call_id\": tool.id,\n",
    "                \"role\": \"tool\",\n",
    "                \"content\": function_response,\n",
    "            },\n",
    "        ],\n",
    "    )\n",
    "    return response_after_tool_call\n"
   ]
  },
  {
   "cell_type": "code",
   "execution_count": null,
   "id": "0eca49f8",
   "metadata": {},
   "outputs": [],
   "source": [
    "# ユーザーからの質問を処理する関数\n",
    "\"\"\"\n",
    "def process_response(question, tools):\n",
    "    response = ask_question(question, tools)\n",
    "\n",
    "    if response.choices[0].finish_reason == \"tool_calls\":\n",
    "        # ツール呼び出し\n",
    "        final_response = handle_tool_call(response, question)\n",
    "        return final_response.choices[0].message.content.strip()\n",
    "    else:\n",
    "        # 直接回答\n",
    "        return response.choices[0].message.content.strip()\n",
    "\"\"\"\n",
    "def process_response(question, tools):\n",
    "    response = ask_question(messages, tools)\n",
    "\n",
    "    if response.choices[0].finish_reason == \"tool_calls\":\n",
    "        # ツール呼び出し\n",
    "        final_response = handle_tool_call(response, question)\n",
    "        return final_response.choices[0].message.content.strip()\n",
    "    else:\n",
    "        # 直接回答\n",
    "        return response.choices[0].message.content.strip()"
   ]
  },
  {
   "cell_type": "code",
   "execution_count": 18,
   "id": "0951a560",
   "metadata": {},
   "outputs": [
    {
     "name": "stdout",
     "output_type": "stream",
     "text": [
      "------define_tools(ツール定義)------\n",
      "面積で比較すると、沖縄県の方が広いです。\n",
      "\n",
      "- 東京都の面積は約2,194平方キロメートルです。\n",
      "- 沖縄県の面積は約2,271平方キロメートルです。\n",
      "\n",
      "したがって、沖縄県は東京都よりも広い地域を持っています。\n"
     ]
    }
   ],
   "source": [
    "tools = define_tools()\n",
    "\n",
    "# 直接回答\n",
    "question = \"東京都と沖縄県はどちらが広いですか？\"\n",
    "response_message = process_response(question, tools)\n",
    "print(response_message)"
   ]
  },
  {
   "cell_type": "code",
   "execution_count": 26,
   "id": "8611a6ba",
   "metadata": {},
   "outputs": [
    {
     "name": "stdout",
     "output_type": "stream",
     "text": [
      "------define_tools(ツール定義)------\n",
      "最近1ヶ月以内に東京駅で行われるイベントに関する情報は以下の通りです：\n",
      "\n",
      "1. **Tokyo Innovation Base (TIB) 展示**\n",
      "   - 開催日: 1ヶ月間\n",
      "   - 内容: 東京駅近くのTokyo Innovation Baseにて行われる展示です。詳細な内容は[こちら](https://www.instagram.com/p/C8LjI59hw7N/)を参照してください。\n",
      "\n",
      "2. **COMIC CITY VEGA 2025**\n",
      "   - 開催日: 8月31日\n",
      "   - 内容: 東京豊洲で開催されるイベント。入場券の予告などが行われています。詳しくは[こちら](https://www.facebook.com/manyo.toyosu/posts/)をチェックしてください。\n",
      "\n",
      "3. **HOKUSAI: ANOTHER STORY in TOKYO**\n",
      "   - 時期: 2025年2月1日から8月11日\n",
      "   - 内容: 葛飾北斎に関する展示イベント。美術の世界を体感できる展覧会です。詳細は[こちら](https://www.walkerplus.com/top/ar0313/)から。\n",
      "\n",
      "4. **和楽器コンサート**\n",
      "   - 開催日: 2025年4月18日から9月23日予定\n",
      "   - 内容: 和楽器にフォーカスを当てたコンサートシリーズ。詳細は[こちら](https://www.enjoytokyo.jp/event/list/)を参照してください。\n",
      "\n",
      "この他にもさまざまなイベントが東京駅周辺で計画されていますので、気になる方は公式サイトやSNSで最新情報をチェックすることをお勧めします。\n"
     ]
    }
   ],
   "source": [
    "tools = define_tools()\n",
    "\n",
    "# ツール呼出が必要な質問\n",
    "question = \"東京駅のイベントについて、最近1ヶ月以内の検索結果を教えてください\"\n",
    "response_message = process_response(question, tools)\n",
    "print(response_message)"
   ]
  },
  {
   "cell_type": "code",
   "execution_count": 25,
   "id": "76f4e6aa",
   "metadata": {},
   "outputs": [
    {
     "name": "stdout",
     "output_type": "stream",
     "text": [
      "------define_tools(ツール定義)------\n"
     ]
    },
    {
     "data": {
      "text/plain": [
       "'質問:soujino'"
      ]
     },
     "metadata": {},
     "output_type": "display_data"
    },
    {
     "name": "stdout",
     "output_type": "stream",
     "text": [
      "It appears that \"Soujino\" could refer to a variety of topics, primarily associated with individuals or creative content online. Here are some notable mentions:\n",
      "\n",
      "1. **Social Media**: [Soujino on Twitter](https://twitter.com/Soujino) is described as a Pokemon enthusiast and a creator in the realm of decentralized finance (DeFi) and digital art (JPEGs).\n",
      "\n",
      "2. **Art Profile**: You can find [Soujino's artwork on DeviantArt](https://www.deviantart.com/soujino), where they share their creations.\n",
      "\n",
      "3. **Anime Series**: There is a mention of \"Souji no Kanojo,\" which seems to be an anime or related content available with English subtitles on platforms like [BiliBili](https://www.bilibili.tv/en/video/4796280060777984).\n",
      "\n",
      "4. **Facebook**: A person named [Soujino Jikankameyama](https://m.facebook.com/soujino.jikankameyama.7/) is also present on Facebook, where you can connect with them.\n",
      "\n",
      "5. **One Piece Fan Content**: There is a reference to a fictional item in the One Piece universe, the [Souji Souji no Mi](https://shipoffools.fandom.com/wiki/Souji_Souji_no_Mi), which allows the user to assign quests to others.\n",
      "\n",
      "If you have a specific context or topic in mind regarding \"Soujino,\" please provide more details!\n",
      "\n",
      "---ご利用ありがとうございました！---\n"
     ]
    }
   ],
   "source": [
    "# チャットボットへの組み込み\n",
    "tools = define_tools()\n",
    "\n",
    "messages=[]\n",
    "\n",
    "while(True):\n",
    "    # ユーザーからの質問を受付\n",
    "    question = input(\"メッセージを入力:\")\n",
    "    # 質問が入力されなければ終了\n",
    "    if question.strip()==\"\":\n",
    "        break\n",
    "    display(f\"質問:{question}\")\n",
    "\n",
    "    # メッセージにユーザーからの質問を追加\n",
    "    messages.append({\"role\": \"user\", \"content\": question.strip()})\n",
    "    # やりとりが8を超えたら古いメッセージから削除\n",
    "    if len(messages) > 8:\n",
    "        del_message = messages.pop(0)\n",
    "\n",
    "    # 言語モデルに質問\n",
    "    response_message = process_response(question, tools)\n",
    "\n",
    "    # メッセージに言語モデルからの回答を追加\n",
    "    print(response_message, flush=True)\n",
    "    messages.append({\"role\": \"assistant\", \"content\": response_message})\n",
    "\n",
    "print(\"\\n---ご利用ありがとうございました！---\")"
   ]
  },
  {
   "cell_type": "code",
   "execution_count": null,
   "id": "1865b10a",
   "metadata": {},
   "outputs": [],
   "source": []
  }
 ],
 "metadata": {
  "kernelspec": {
   "display_name": ".venv",
   "language": "python",
   "name": "python3"
  },
  "language_info": {
   "codemirror_mode": {
    "name": "ipython",
    "version": 3
   },
   "file_extension": ".py",
   "mimetype": "text/x-python",
   "name": "python",
   "nbconvert_exporter": "python",
   "pygments_lexer": "ipython3",
   "version": "3.12.10"
  }
 },
 "nbformat": 4,
 "nbformat_minor": 5
}
