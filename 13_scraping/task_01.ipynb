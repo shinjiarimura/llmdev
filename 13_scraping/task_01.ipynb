{
 "cells": [
  {
   "cell_type": "code",
   "execution_count": 12,
   "id": "159b4e03",
   "metadata": {},
   "outputs": [],
   "source": [
    "import requests\n",
    "\n",
    "WIKI_API_URL = \"https://ja.wikipedia.org/w/api.php\"\n",
    "\n",
    "# 検索キーワードのページ取得\n",
    "def fetch_search_results(keyword, limit=10):\n",
    "    params = {\n",
    "        \"action\": \"query\",\n",
    "        \"list\": \"search\",\n",
    "        \"srsearch\": keyword,\n",
    "        \"format\": \"json\",\n",
    "        \"srlimit\": limit\n",
    "    }\n",
    "\n",
    "    headers = {\n",
    "        \"User-Agent\": \"LYGroup-WikiClient/1.0 (sarimura@lycorp.co.jp)\"  # ←識別可能なUA\n",
    "    }\n",
    "\n",
    "    try:\n",
    "        response = requests.get(WIKI_API_URL, headers=headers, params=params)\n",
    "        response.raise_for_status()\n",
    "        data = response.json()\n",
    "        return data.get(\"query\", {}).get(\"search\", [])\n",
    "    except requests.RequestException as e:\n",
    "        print(\"検索リクエストでエラーが発生しました:\", e)\n",
    "        return []\n",
    "\n",
    "# ページ内容を取得\n",
    "def fetch_page_content(title):\n",
    "    params = {\n",
    "        \"action\": \"query\",\n",
    "        \"format\": \"json\",\n",
    "        \"titles\": title,\n",
    "        \"prop\": \"extracts\",\n",
    "        \"explaintext\": True\n",
    "    }\n",
    "\n",
    "    headers = {\n",
    "        \"User-Agent\": \"LYGroup-WikiClient/1.0 (sarimura@lycorp.co.jp)\"\n",
    "    }\n",
    "    \n",
    "\n",
    "    try:\n",
    "        response = requests.get(WIKI_API_URL, headers=headers, params=params)\n",
    "        response.raise_for_status()\n",
    "        data = response.json()\n",
    "        page = next(iter(data.get(\"query\", {}).get(\"pages\", {}).values()), {})\n",
    "        return page.get(\"extract\", \"ページの内容が見つかりません\")\n",
    "    except requests.RequestException as e:\n",
    "        print(\"ページ内容取得でエラーが発生しました:\", e)\n",
    "        return \"ページ内容が取得できませんでした。\""
   ]
  },
  {
   "cell_type": "code",
   "execution_count": 13,
   "id": "579a6735",
   "metadata": {},
   "outputs": [
    {
     "name": "stdout",
     "output_type": "stream",
     "text": [
      "【キーワードに該当するページ一覧】\n",
      "- Python\n",
      "- モンティ・パイソン\n",
      "- IronPython\n",
      "\n",
      "【最初のページタイトル】\n",
      "Python\n",
      "\n",
      "【ページ内容】\n",
      "Python（パイソン）はインタープリタ型の高水準汎用プログラミング言語である。\n",
      "\n",
      "\n",
      "== 概要 ==\n",
      "Pythonは1991年にグイド・ヴァン・ロッサムにより開発されたプログラミング言語である。\n",
      "最初にリリースされたPythonの設計哲学は、ホワイトスペース（オフサイドルール）の顕著な使用によってコードの可読性を重視している。その言語構成とオブジェクト指向のアプローチは、プログラマが小規模なプロジェクトから大規模なプロジェクトまで、明確で論理的なコードを書くのを支援することを目的としている。\n",
      "Pythonは動的に型付けされていて、ガベージコレクションされている。構造化（特に手続き型）、オブジェクト指向、関数型プログラミングを含む複数のプログラミングパラダイムをサポートしている。Pythonは、その包括的な標準ライブラリのため、しばしば「バッテリーを含む」言語と表現されている。\n",
      "Pythonのインタプリタは多くのOSに対応している。プログラマーのグローバルコミュニティは、自由かつオープンソース  のリファレンス実装であるCPythonを開発および保守している 。非営利団体であるPyth\n"
     ]
    }
   ],
   "source": [
    "# テスト\n",
    "keyword = \"Python\"\n",
    "\n",
    "search_results = fetch_search_results(keyword)\n",
    "if search_results:\n",
    "    print(\"【キーワードに該当するページ一覧】\")\n",
    "    for result in search_results[:3]:\n",
    "        print(f\"- {result['title']}\")\n",
    "    \n",
    "    # 最初のページタイトル取得\n",
    "    first_title = search_results[0]['title']\n",
    "    print(\"\\n【最初のページタイトル】\")\n",
    "    print(first_title)\n",
    "\n",
    "    # 最初のページ内容\n",
    "    page_content = fetch_page_content(first_title)\n",
    "    print(\"\\n【ページ内容】\")\n",
    "    print(page_content[:500])\n",
    "else:\n",
    "    print(\"検索結果が見つかりません。\")"
   ]
  },
  {
   "cell_type": "code",
   "execution_count": 16,
   "id": "f6c145c7",
   "metadata": {},
   "outputs": [],
   "source": [
    "import os\n",
    "from dotenv import load_dotenv\n",
    "from openai import OpenAI\n",
    "\n",
    "load_dotenv(\"../.env\")\n",
    "\n",
    "client = OpenAI(api_key=os.environ['API_KEY'])\n",
    "\n",
    "MODEL_NAME = \"gpt-4o-mini\""
   ]
  },
  {
   "cell_type": "code",
   "execution_count": 17,
   "id": "d44a6244",
   "metadata": {},
   "outputs": [
    {
     "name": "stdout",
     "output_type": "stream",
     "text": [
      "Python（パイソン）は、1991年にグイド・ヴァン・ロッサムが作ったプログラミング言語です。Pythonは、コードが読みやすく、わかりやすいことを大切にしています。プログラマーは、小さなプロジェクトから大きなプロジェクトまで、簡単に明確なコードを書くことができます。\n",
      "\n",
      "Pythonの特徴として、動的に型付けされていて、ガベージコレクションがあること、いろいろなプログラミングのスタイルに対応していることが挙げられます。また、Pythonにはたくさんの便利なツールが用意されていて、必要なものをインターネットからダウンロードして使うことができます。\n",
      "\n",
      "Pythonは多くのコンピュータで動かせるため、世界中のプログラマーが使っています。Pythonのコミュニティでは、シンプルで簡単なコードを書くことが好まれています。Pythonは「一つの良いやり方があるはず」という考え方を持っていて、使いやすさを大切にしています。\n"
     ]
    }
   ],
   "source": [
    "# テスト\n",
    "# 要約を行うプロンプトを作成\n",
    "prompt = f\"\"\"\n",
    "以下の文章を要約してください。\n",
    "\n",
    "# 条件：\n",
    "- 小学生にもわかるように\n",
    "- 300文字程度\n",
    "\n",
    "# 文章：\n",
    "{page_content[:1000]}\n",
    "\"\"\"\n",
    "\n",
    "# APIリクエスト\n",
    "response = client.chat.completions.create(\n",
    "    model=MODEL_NAME,\n",
    "    messages=[\n",
    "        {\"role\": \"user\", \"content\": prompt},\n",
    "    ],\n",
    "    max_tokens=500,\n",
    "    temperature=0.3\n",
    ")\n",
    "\n",
    "print(response.choices[0].message.content.strip())"
   ]
  },
  {
   "cell_type": "code",
   "execution_count": 8,
   "id": "a0454a68",
   "metadata": {},
   "outputs": [
    {
     "name": "stdout",
     "output_type": "stream",
     "text": [
      "Python（パイソン）は、1991年にグイド・ヴァン・ロッサムによって作られたプログラミング言語です。この言語は、コードが読みやすくなるように設計されています。Pythonは、さまざまなプログラミングのスタイルをサポートしていて、簡単に使えるのが特徴です。プログラマーたちは、Pythonを使って小さなプロジェクトから大きなプロジェクトまで、わかりやすいコードを書くことができます。\n",
      "\n",
      "Pythonは「バッテリーを含む」と呼ばれることもあり、たくさんの便利な機能が最初から用意されています。プログラムを書くとき、必要なツールはインターネットからダウンロードして使うことができます。また、Pythonのコミュニティでは、シンプルで効率的なコードを書くことが大切にされています。Pythonの設計思想には、「物事をするには一つの良い方法がある」という考え方があります。これにより、プログラミングがより楽しく、わかりやすくなっています。\n"
     ]
    }
   ],
   "source": [
    "# テスト\n",
    "# 回答表示\n",
    "print(response.choices[0].message.content.strip())"
   ]
  },
  {
   "cell_type": "code",
   "execution_count": 20,
   "id": "32bbff5e",
   "metadata": {},
   "outputs": [
    {
     "name": "stdout",
     "output_type": "stream",
     "text": [
      "【wikipediaでの類似キーワードページ(最大3件)】\n",
      "------ キーワード【Python】 ------\n",
      "-----wikiページのAIサマリ-----\n",
      "- Pythonは1991年に開発された高水準の汎用プログラミング言語で、可読性を重視した設計哲学を持つ。\n",
      "- 動的型付けやガベージコレクションを特徴とし、複数のプログラミングパラダイムをサポートしている。\n",
      "- オープンソースであり、包括\n",
      "------ キーワード【モンティ・パイソン】 ------\n",
      "-----wikiページのAIサマリ-----\n",
      "- モンティ・パイソンは、1969年に始まったBBCのコメディ番組で人気を博したイギリスのコメディグループ。\n",
      "- 彼らの革新的なスケッチ構成は、アメリカのコメディ番組やポップ・カルチャーに大きな影響を与えた。\n",
      "- 不条理なスタイル\n",
      "------ キーワード【IronPython】 ------\n",
      "-----wikiページのAIサマリ-----  \n",
      "- IronPythonは、.NET Framework上で動作するPythonの実装で、Python 2.x系と互換性がある。  \n",
      "- .NETのクラスライブラリをPython文法で利用でき、既存のPythonコード資産も活用可能。  \n",
      "- IronPythonはC#で実装されており、スクリプト言語としての利用や.NETアセンブ\n"
     ]
    }
   ],
   "source": [
    "# 類似ワード調査\n",
    "\n",
    "import time\n",
    "\n",
    "keyword = \"Python\"\n",
    "\n",
    "search_results = fetch_search_results(keyword)\n",
    "if search_results:\n",
    "    print(\"【wikipediaでの類似キーワードページ(最大3件)】\")\n",
    "    for result in search_results[:3]:\n",
    "        print(f\"------ キーワード【{result['title']}】 ------\")\n",
    "    \n",
    "        \"\"\"\n",
    "        # 検索結果の内、最大2件を表示\n",
    "        first_title = search_results[0]['title']\n",
    "        print(\"\\n【最初のページタイトル】\")\n",
    "        print(first_title)\n",
    "        \"\"\"\n",
    "\n",
    "        \n",
    "        # \n",
    "        page_content = fetch_page_content(result['title'])\n",
    "        #print(\"【ページ内容】\")\n",
    "        #print(page_content[:500])\n",
    "        \n",
    "\n",
    "        # 要約を行うプロンプトを作成\n",
    "        prompt = f\"\"\"\n",
    "        以下の文章を要約してください。\n",
    "\n",
    "        # 条件：\n",
    "        - 読者はマーケティング担当者\n",
    "        - 出力内容の冒頭に「-----wikiページのAIサマリ-----」と出力\n",
    "        - 箇条書きで3行\n",
    "\n",
    "        # 文章：\n",
    "        {page_content[:500]}\n",
    "        \"\"\"\n",
    "\n",
    "        # APIリクエスト\n",
    "        response = client.chat.completions.create(\n",
    "            model=MODEL_NAME,\n",
    "            messages=[\n",
    "                {\"role\": \"user\", \"content\": prompt},\n",
    "            ],\n",
    "            max_tokens=100,\n",
    "            temperature=0.3\n",
    "        )\n",
    "        print(response.choices[0].message.content.strip())\n",
    "\n",
    "        time.sleep(60) \n",
    "else:\n",
    "    print(\"検索結果が見つかりません。\")"
   ]
  },
  {
   "cell_type": "code",
   "execution_count": null,
   "id": "41d0e9c9",
   "metadata": {},
   "outputs": [],
   "source": []
  }
 ],
 "metadata": {
  "kernelspec": {
   "display_name": ".venv",
   "language": "python",
   "name": "python3"
  },
  "language_info": {
   "codemirror_mode": {
    "name": "ipython",
    "version": 3
   },
   "file_extension": ".py",
   "mimetype": "text/x-python",
   "name": "python",
   "nbconvert_exporter": "python",
   "pygments_lexer": "ipython3",
   "version": "3.12.10"
  }
 },
 "nbformat": 4,
 "nbformat_minor": 5
}
