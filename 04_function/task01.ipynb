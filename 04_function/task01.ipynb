{
 "cells": [
  {
   "cell_type": "code",
   "execution_count": null,
   "id": "365de261",
   "metadata": {},
   "outputs": [
    {
     "data": {
      "text/plain": [
       "False"
      ]
     },
     "execution_count": 42,
     "metadata": {},
     "output_type": "execute_result"
    }
   ],
   "source": [
    "\n",
    "def is_validation(name):\n",
    "    if is_length(name) and is_empty(name) and is_chartype(name):\n",
    "        print(\"ユーザー名は有効です\")\n",
    "    else:\n",
    "        print(\"不正なユーザー名です\")\n",
    "\n",
    "\n",
    "# 文字数チェック\n",
    "def is_length(name):\n",
    "    if 5 <= len(name) < 15:\n",
    "        return True\n",
    "    else:\n",
    "        print(\"エラー: ユーザー名は5文字以上15文字以内で入力してください\")\n",
    "        return False\n",
    "    \n",
    "# 空文字チェック\n",
    "def is_empty(name):\n",
    "    if \" \" in name or \"　\" in name:\n",
    "        print(\"エラー: ユーザー名に空白を含めることはできません\")\n",
    "        return False\n",
    "    else:\n",
    "        return True\n",
    "\n",
    "# 英数字チェック\n",
    "def is_chartype(name):\n",
    "    if name.isalnum() and name.isascii():\n",
    "        return True\n",
    "    else:\n",
    "        print(\"エラー: ユーザー名は英数字のみ使用できます\")\n",
    "        return False\n",
    "\n",
    "#is_length(\"123456789012345\")\n",
    "#is_empty(\"arimura\")\n",
    "#is_chartype(\"arimura\")\n",
    "\n",
    "\"\"\"\n",
    "print(\"JohnDoe123：\")\n",
    "is_validation(\"JohnDoe123\")\n",
    "\n",
    "print(\"JD：\")\n",
    "is_validation(\"JD\")\n",
    "\n",
    "print(\"John@Doe：\")\n",
    "is_validation(\"John@Doe\")\n",
    "\n",
    "print(\"John Doe：\")\n",
    "is_validation(\"John Doe\")\n",
    "\n",
    "\"\"\"\n",
    "\n",
    "\"\"\"\n",
    "import re\n",
    "def validate_username_fast(name: str) -> bool:\n",
    "    return re.fullmatch(r'[A-Za-z0-9]{5,15}', name.strip()) is not None\n",
    "\n",
    "#validate_username_fast(\"JohnDoe123\")\n",
    "#validate_username_fast(\"JD\")\n",
    "#validate_username_fast(\"John@Doe\")\n",
    "validate_username_fast(\"John Doe\")\n",
    "\"\"\""
   ]
  },
  {
   "cell_type": "code",
   "execution_count": null,
   "id": "7e538996",
   "metadata": {},
   "outputs": [],
   "source": []
  }
 ],
 "metadata": {
  "kernelspec": {
   "display_name": ".venv",
   "language": "python",
   "name": "python3"
  },
  "language_info": {
   "codemirror_mode": {
    "name": "ipython",
    "version": 3
   },
   "file_extension": ".py",
   "mimetype": "text/x-python",
   "name": "python",
   "nbconvert_exporter": "python",
   "pygments_lexer": "ipython3",
   "version": "3.12.10"
  }
 },
 "nbformat": 4,
 "nbformat_minor": 5
}
