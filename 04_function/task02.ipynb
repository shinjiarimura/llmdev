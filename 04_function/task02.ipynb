{
 "cells": [
  {
   "cell_type": "code",
   "execution_count": 13,
   "id": "1f72ce89",
   "metadata": {},
   "outputs": [
    {
     "name": "stdout",
     "output_type": "stream",
     "text": [
      "Content saved in: 20250818_180404.txt\n"
     ]
    }
   ],
   "source": [
    "import urllib.request as ur\n",
    "import datetime as dt\n",
    "\n",
    "\n",
    "def save_url_content(url):\n",
    "\n",
    "    # webコンテンツ取得\n",
    "    try:\n",
    "        response = ur.urlopen(url)\n",
    "        html = response.read().decode(\"utf-8\")\n",
    "    except:\n",
    "        print(\"指定したURLへのアクセスでエラーが発生しました\")\n",
    "        return None\n",
    "    #print(html[:500])\n",
    "\n",
    "    # ファイル名生成\n",
    "    file_name = dt.datetime.now().strftime(\"%Y%m%d_%H%M%S\") + \".txt\"\n",
    "\n",
    "    try:\n",
    "        with open(file_name, \"w\", encoding=\"utf-8\") as file:\n",
    "            file.write(html[:500])\n",
    "    except:\n",
    "        print(\"ファイル書き込みでエラーが発生しました\")\n",
    "        return None\n",
    "        \n",
    "    return file_name\n",
    "\n",
    "url = input(\"URLを入力してください: \")\n",
    "#url = \"https://techacademy.jp\"\n",
    "file_name = save_url_content(url)\n",
    "print(f\"Content saved in: {file_name}\")"
   ]
  },
  {
   "cell_type": "code",
   "execution_count": null,
   "id": "25ca16f6",
   "metadata": {},
   "outputs": [],
   "source": []
  }
 ],
 "metadata": {
  "kernelspec": {
   "display_name": ".venv",
   "language": "python",
   "name": "python3"
  },
  "language_info": {
   "codemirror_mode": {
    "name": "ipython",
    "version": 3
   },
   "file_extension": ".py",
   "mimetype": "text/x-python",
   "name": "python",
   "nbconvert_exporter": "python",
   "pygments_lexer": "ipython3",
   "version": "3.12.10"
  }
 },
 "nbformat": 4,
 "nbformat_minor": 5
}
