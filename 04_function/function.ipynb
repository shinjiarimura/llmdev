{
 "cells": [
  {
   "cell_type": "code",
   "execution_count": 2,
   "id": "8a96ee66",
   "metadata": {},
   "outputs": [
    {
     "name": "stdout",
     "output_type": "stream",
     "text": [
      "「にんてんどうそばてんに」は回文ではないです。\n"
     ]
    }
   ],
   "source": [
    "def is_palindrome(s):\n",
    "    if s == s[::-1]:\n",
    "        print(f\"「{s}」は回文です！\")\n",
    "    else:\n",
    "        print(f\"「{s}」は回文ではないです。\")\n",
    "\n",
    "is_palindrome(\"にんてんどうそばてんに\")"
   ]
  },
  {
   "cell_type": "code",
   "execution_count": 3,
   "id": "4521b6d8",
   "metadata": {},
   "outputs": [
    {
     "name": "stdout",
     "output_type": "stream",
     "text": [
      "合計:6\n",
      "合計:50\n"
     ]
    }
   ],
   "source": [
    "def add(*args):\n",
    "    result = sum(args)\n",
    "    print(f\"合計:{result}\")\n",
    "\n",
    "add(1, 2, 3)\n",
    "add(5, 10, 15, 20)"
   ]
  },
  {
   "cell_type": "code",
   "execution_count": 5,
   "id": "2f37fc62",
   "metadata": {},
   "outputs": [
    {
     "name": "stdout",
     "output_type": "stream",
     "text": [
      "name : 太郎\n",
      "age : 20\n",
      "hobby : 読書\n",
      "pref : 埼玉県\n",
      "pref_num : 11\n"
     ]
    }
   ],
   "source": [
    "def introduce(**kwargs):\n",
    "    for key, value in kwargs.items():\n",
    "        print(f\"{key} : {value}\")\n",
    "\n",
    "introduce(name=\"太郎\", age=20, hobby=\"読書\")\n",
    "\n",
    "introduce(pref=\"埼玉県\", pref_num=11)"
   ]
  },
  {
   "cell_type": "code",
   "execution_count": 7,
   "id": "7c8f4614",
   "metadata": {},
   "outputs": [
    {
     "name": "stdout",
     "output_type": "stream",
     "text": [
      "足し算結果: 7\n",
      "掛け算結果: 12\n"
     ]
    }
   ],
   "source": [
    "def calculate(a, b):\n",
    "    sum_result = a + b\n",
    "    product_result = a * b\n",
    "    return sum_result, product_result\n",
    "\n",
    "\n",
    "res1, res2 = calculate(3,4)\n",
    "print(\"足し算結果:\", res1)\n",
    "print(\"掛け算結果:\", res2)"
   ]
  },
  {
   "cell_type": "code",
   "execution_count": null,
   "id": "daf7b80b",
   "metadata": {},
   "outputs": [],
   "source": []
  }
 ],
 "metadata": {
  "kernelspec": {
   "display_name": ".venv",
   "language": "python",
   "name": "python3"
  },
  "language_info": {
   "codemirror_mode": {
    "name": "ipython",
    "version": 3
   },
   "file_extension": ".py",
   "mimetype": "text/x-python",
   "name": "python",
   "nbconvert_exporter": "python",
   "pygments_lexer": "ipython3",
   "version": "3.12.10"
  }
 },
 "nbformat": 4,
 "nbformat_minor": 5
}
