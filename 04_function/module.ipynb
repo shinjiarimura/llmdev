{
 "cells": [
  {
   "cell_type": "code",
   "execution_count": 7,
   "id": "66ad5ebe",
   "metadata": {},
   "outputs": [
    {
     "name": "stdout",
     "output_type": "stream",
     "text": [
      "2025-08-18 17:21:59.685675\n",
      "1976-08-23 00:00:00\n",
      "365\n"
     ]
    }
   ],
   "source": [
    "import datetime as dt\n",
    "\n",
    "now = dt.datetime.now()\n",
    "print(now)\n",
    "\n",
    "birthday = dt.datetime(1976,8,23)\n",
    "print(birthday)\n",
    "\n",
    "date1 = dt.datetime(2023,1,1)\n",
    "date2 = dt.datetime(2024,1,1)\n",
    "diff = date2 - date1\n",
    "print(diff.days)"
   ]
  },
  {
   "cell_type": "code",
   "execution_count": 12,
   "id": "ee1c7fe5",
   "metadata": {},
   "outputs": [
    {
     "name": "stdout",
     "output_type": "stream",
     "text": [
      "10\n",
      "[1, 3, 4, 5, 2]\n",
      "2\n"
     ]
    }
   ],
   "source": [
    "import random as rd\n",
    "\n",
    "print(rd.randint(1,10))\n",
    "\n",
    "m_list = [1,2,3,4,5]\n",
    "rd.shuffle(m_list)\n",
    "print(m_list)\n",
    "\n",
    "print(rd.choice(m_list))"
   ]
  },
  {
   "cell_type": "code",
   "execution_count": 17,
   "id": "047a6015",
   "metadata": {},
   "outputs": [
    {
     "name": "stdout",
     "output_type": "stream",
     "text": [
      "/Users/sarimura/work/202508_py_study/llmdev/04_function\n",
      "True\n"
     ]
    }
   ],
   "source": [
    "import os\n",
    "\n",
    "print(os.getcwd())\n",
    "\n",
    "#os.mkdir(\"new_folder\")\n",
    "\n",
    "print(os.path.exists(\"function.ipynb\"))"
   ]
  },
  {
   "cell_type": "code",
   "execution_count": 18,
   "id": "a9288fcf",
   "metadata": {},
   "outputs": [
    {
     "name": "stdout",
     "output_type": "stream",
     "text": [
      "<!DOCTYPE html><html  lang=\"ja\" data-theme=\"techacademy\" data-capo=\"\"><head><meta charset=\"utf-8\">\n",
      "<meta name=\"viewport\" content=\"width=device-width, initial-scale=1\">\n",
      "<title>プログラミングスクール | 受講者数No.1のテックアカデミー</title>\n",
      "<link rel=\"preconnect\" href=\"https://fonts.googleapis.com\">\n",
      "<link rel=\"preconnect\" href=\"https://fonts.gstatic.com\" crossorigin>\n",
      "<script src=\"https://www.googletagmanager.com/gtag/js?id=AW-1006744060\" async data-hid=\"92ebc66\"></script>\n",
      "<script src=\"//static.criteo.net/js/ld/ld.js\" asy\n"
     ]
    }
   ],
   "source": [
    "import urllib.request as ur\n",
    "\n",
    "url = \"https://techacademy.jp\"\n",
    "response = ur.urlopen(url)\n",
    "\n",
    "html = response.read().decode(\"utf-8\")\n",
    "print(html[:500])"
   ]
  },
  {
   "cell_type": "code",
   "execution_count": 19,
   "id": "827e5883",
   "metadata": {},
   "outputs": [
    {
     "name": "stdout",
     "output_type": "stream",
     "text": [
      "8\n",
      "6\n"
     ]
    }
   ],
   "source": [
    "import math_operations\n",
    "\n",
    "result1 = math_operations.add(5,3)\n",
    "result2 = math_operations.subtract(10,4)\n",
    "\n",
    "print(result1)\n",
    "print(result2)"
   ]
  },
  {
   "cell_type": "code",
   "execution_count": null,
   "id": "9a7491e8",
   "metadata": {},
   "outputs": [],
   "source": []
  }
 ],
 "metadata": {
  "kernelspec": {
   "display_name": ".venv",
   "language": "python",
   "name": "python3"
  },
  "language_info": {
   "codemirror_mode": {
    "name": "ipython",
    "version": 3
   },
   "file_extension": ".py",
   "mimetype": "text/x-python",
   "name": "python",
   "nbconvert_exporter": "python",
   "pygments_lexer": "ipython3",
   "version": "3.12.10"
  }
 },
 "nbformat": 4,
 "nbformat_minor": 5
}
