{
 "cells": [
  {
   "cell_type": "code",
   "execution_count": 11,
   "id": "f1c79703",
   "metadata": {},
   "outputs": [
    {
     "name": "stdout",
     "output_type": "stream",
     "text": [
      "元金を入力してください: 1000\n",
      "年利を入力してください: : 5\n",
      "10年後の金額: 1628.89\n"
     ]
    }
   ],
   "source": [
    "principal = int(input(\"元金を入力してください: \"))\n",
    "print(f\"元金を入力してください: {principal}\")\n",
    "annual_interest_rate = int(input(\"年利を入力してください: \"))\n",
    "print(f\"年利を入力してください: : {annual_interest_rate}\")\n",
    "\n",
    "i = 0\n",
    "\n",
    "for i in range(10):\n",
    "    principal = principal * (1 + (annual_interest_rate / 100))\n",
    "\n",
    "print(f\"10年後の金額: {principal:.2f}\")\n"
   ]
  },
  {
   "cell_type": "code",
   "execution_count": null,
   "id": "d6bfd6a9",
   "metadata": {},
   "outputs": [],
   "source": [
    "\n"
   ]
  }
 ],
 "metadata": {
  "kernelspec": {
   "display_name": ".venv",
   "language": "python",
   "name": "python3"
  },
  "language_info": {
   "codemirror_mode": {
    "name": "ipython",
    "version": 3
   },
   "file_extension": ".py",
   "mimetype": "text/x-python",
   "name": "python",
   "nbconvert_exporter": "python",
   "pygments_lexer": "ipython3",
   "version": "3.12.10"
  }
 },
 "nbformat": 4,
 "nbformat_minor": 5
}
