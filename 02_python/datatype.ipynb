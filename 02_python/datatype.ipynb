{
 "cells": [
  {
   "cell_type": "code",
   "execution_count": 1,
   "id": "b75c7608",
   "metadata": {},
   "outputs": [
    {
     "name": "stdout",
     "output_type": "stream",
     "text": [
      "a:10\n",
      "b:-5\n",
      "d:0\n",
      "合計：5\n",
      "積：-50\n"
     ]
    }
   ],
   "source": [
    "a = 10\n",
    "b = -5\n",
    "c = 0\n",
    "\n",
    "sum_result = a + b\n",
    "product_result = a * b\n",
    "print(f\"a:{a}\")\n",
    "print(f\"b:{b}\")\n",
    "print(f\"d:{c}\")\n",
    "print(f\"合計：{sum_result}\")\n",
    "print(f\"積：{product_result}\")"
   ]
  },
  {
   "cell_type": "code",
   "execution_count": 2,
   "id": "4012edd4",
   "metadata": {},
   "outputs": [
    {
     "name": "stdout",
     "output_type": "stream",
     "text": [
      "除算結果:3.3333333333333335\n",
      "整数除算結果:3\n"
     ]
    }
   ],
   "source": [
    "divisin_result = a / 3\n",
    "integer_division_result = a // 3\n",
    "\n",
    "print(f\"除算結果:{divisin_result}\")\n",
    "print(f\"整数除算結果:{integer_division_result}\")"
   ]
  },
  {
   "cell_type": "code",
   "execution_count": 3,
   "id": "3f15fe05",
   "metadata": {},
   "outputs": [
    {
     "name": "stdout",
     "output_type": "stream",
     "text": [
      "x:3.14\n",
      "y:-0.5\n",
      "z:2.0\n",
      "合計: 2.64\n",
      "積: -1.57\n"
     ]
    }
   ],
   "source": [
    "x = 3.14\n",
    "y = -0.5\n",
    "z = 2.0\n",
    "\n",
    "sum_result = x + y\n",
    "product_result = x * y\n",
    "\n",
    "print(f\"x:{x}\")\n",
    "print(f\"y:{y}\")\n",
    "print(f\"z:{z}\")\n",
    "print(\"合計:\", sum_result)\n",
    "print(\"積:\", product_result)"
   ]
  },
  {
   "cell_type": "code",
   "execution_count": 4,
   "id": "f895db6d",
   "metadata": {},
   "outputs": [
    {
     "name": "stdout",
     "output_type": "stream",
     "text": [
      "0.1 + 0.2 = 0.30000000000000004\n"
     ]
    }
   ],
   "source": [
    "result = 0.1 + 0.2\n",
    "print(\"0.1 + 0.2 =\", result)"
   ]
  },
  {
   "cell_type": "code",
   "execution_count": 6,
   "id": "aaba788d",
   "metadata": {},
   "outputs": [
    {
     "name": "stdout",
     "output_type": "stream",
     "text": [
      "aの型：<class 'int'>\n",
      "bの型：<class 'float'>\n"
     ]
    }
   ],
   "source": [
    "a = 10\n",
    "b = float(a)\n",
    "\n",
    "print(f\"aの型：{type(a)}\")\n",
    "print(f\"bの型：{type(b)}\")"
   ]
  },
  {
   "cell_type": "code",
   "execution_count": 8,
   "id": "c66c4b49",
   "metadata": {},
   "outputs": [
    {
     "name": "stdout",
     "output_type": "stream",
     "text": [
      "0.000123\n"
     ]
    }
   ],
   "source": [
    "num = 1.23e-4\n",
    "print(num)"
   ]
  },
  {
   "cell_type": "code",
   "execution_count": 9,
   "id": "cf240dcb",
   "metadata": {},
   "outputs": [
    {
     "name": "stdout",
     "output_type": "stream",
     "text": [
      "c1: (2+3j)\n",
      "c2: (-1+0.5j)\n",
      "合計: (1+3.5j)\n",
      "積: (-3.5-2j)\n"
     ]
    }
   ],
   "source": [
    "c1 = 2 + 3j\n",
    "c2 = -1 + 0.5j\n",
    "\n",
    "sum_result = c1 + c2\n",
    "product_result = c1 * c2\n",
    "\n",
    "print(\"c1:\", c1)\n",
    "print(\"c2:\", c2)\n",
    "print(\"合計:\", sum_result)\n",
    "print(\"積:\", product_result)\n"
   ]
  },
  {
   "cell_type": "code",
   "execution_count": 11,
   "id": "764ef6d0",
   "metadata": {},
   "outputs": [
    {
     "name": "stdout",
     "output_type": "stream",
     "text": [
      "Hi! Hi! Hi! \n",
      "4\n"
     ]
    }
   ],
   "source": [
    "text = \"Hi! \"\n",
    "print(text * 3)\n",
    "print(len(text))"
   ]
  },
  {
   "cell_type": "code",
   "execution_count": 15,
   "id": "bc542826",
   "metadata": {},
   "outputs": [
    {
     "name": "stdout",
     "output_type": "stream",
     "text": [
      "PYTHON\n",
      "python\n"
     ]
    }
   ],
   "source": [
    "text = \"Python\"\n",
    "print(text.upper())\n",
    "print(text.lower())\n"
   ]
  },
  {
   "cell_type": "code",
   "execution_count": 16,
   "id": "f41f9d54",
   "metadata": {},
   "outputs": [
    {
     "name": "stdout",
     "output_type": "stream",
     "text": [
      "Python, World\n"
     ]
    }
   ],
   "source": [
    "text = \"Hello, World\"\n",
    "print(text.replace(\"Hello\",\"Python\"))"
   ]
  },
  {
   "cell_type": "code",
   "execution_count": 17,
   "id": "8ddb0a7b",
   "metadata": {},
   "outputs": [
    {
     "name": "stdout",
     "output_type": "stream",
     "text": [
      "Hello, Python\n"
     ]
    }
   ],
   "source": [
    "text = \"Hello, World\"\n",
    "print(text.replace(\"World\", \"Python\"))"
   ]
  },
  {
   "cell_type": "code",
   "execution_count": 18,
   "id": "070b50e7",
   "metadata": {},
   "outputs": [
    {
     "name": "stdout",
     "output_type": "stream",
     "text": [
      "Hello, World!\n"
     ]
    }
   ],
   "source": [
    "text = \"  Hello, World!  \"\n",
    "print(text.strip())"
   ]
  },
  {
   "cell_type": "code",
   "execution_count": 19,
   "id": "2558fac6",
   "metadata": {},
   "outputs": [
    {
     "name": "stdout",
     "output_type": "stream",
     "text": [
      "7\n"
     ]
    }
   ],
   "source": [
    "text = \"Hello, World\"\n",
    "print(text.find(\"World\"))"
   ]
  },
  {
   "cell_type": "code",
   "execution_count": 20,
   "id": "4f56ebfd",
   "metadata": {},
   "outputs": [
    {
     "name": "stdout",
     "output_type": "stream",
     "text": [
      "エスケープを使うと、「'」シングルクォートと「\"」ダブルクォートを混在させたり、\n",
      "改行や\tタブを入れたりと多彩な表現が可能です\n"
     ]
    }
   ],
   "source": [
    "print(\"エスケープを使うと、「\\'」シングルクォートと「\\\"」ダブルクォートを混在させたり、\\n改行や\\tタブを入れたりと多彩な表現が可能です\")"
   ]
  },
  {
   "cell_type": "code",
   "execution_count": 22,
   "id": "8603f05c",
   "metadata": {},
   "outputs": [
    {
     "name": "stdout",
     "output_type": "stream",
     "text": [
      "a < b: True\n",
      "a == b: False\n"
     ]
    }
   ],
   "source": [
    "a=5\n",
    "b=10\n",
    "\n",
    "result = a < b\n",
    "equal_result = a == b \n",
    "\n",
    "print(\"a < b:\", result)\n",
    "print(\"a == b:\", equal_result)"
   ]
  },
  {
   "cell_type": "code",
   "execution_count": 27,
   "id": "01e2edd1",
   "metadata": {},
   "outputs": [
    {
     "name": "stdout",
     "output_type": "stream",
     "text": [
      "False\n",
      "False\n",
      "False\n",
      "True\n"
     ]
    }
   ],
   "source": [
    "print(bool(0))\n",
    "print(bool(0.0))\n",
    "print(bool(\"\"))\n",
    "print(bool(\"Hello\"))"
   ]
  },
  {
   "cell_type": "code",
   "execution_count": 28,
   "id": "67786dde",
   "metadata": {},
   "outputs": [
    {
     "name": "stdout",
     "output_type": "stream",
     "text": [
      "2\n"
     ]
    }
   ],
   "source": [
    "print(True + True)"
   ]
  },
  {
   "cell_type": "code",
   "execution_count": 29,
   "id": "fd8ec02e",
   "metadata": {},
   "outputs": [
    {
     "name": "stdout",
     "output_type": "stream",
     "text": [
      "小数点以下の桁数: 3.14\n"
     ]
    }
   ],
   "source": [
    "pi = 3.14159\n",
    "print(f\"小数点以下の桁数: {pi:.2f}\") # 2桁に指定\n"
   ]
  },
  {
   "cell_type": "code",
   "execution_count": 30,
   "id": "2def8ddc",
   "metadata": {},
   "outputs": [
    {
     "name": "stdout",
     "output_type": "stream",
     "text": [
      "カンマ区切り: 1,234,567,890\n"
     ]
    }
   ],
   "source": [
    "large_number = 1234567890\n",
    "print(f\"カンマ区切り: {large_number:,}\")\n"
   ]
  },
  {
   "cell_type": "code",
   "execution_count": 31,
   "id": "a4d18d98",
   "metadata": {},
   "outputs": [
    {
     "name": "stdout",
     "output_type": "stream",
     "text": [
      "文字列の幅「Alice     」\n"
     ]
    }
   ],
   "source": [
    "name = \"Alice\"\n",
    "print(f\"文字列の幅「{name:10}」\")  # 10文字分の幅で表示\n"
   ]
  },
  {
   "cell_type": "code",
   "execution_count": 32,
   "id": "2fae2d19",
   "metadata": {},
   "outputs": [
    {
     "name": "stdout",
     "output_type": "stream",
     "text": [
      "ゼロ埋め: 00042\n"
     ]
    }
   ],
   "source": [
    "num = 42\n",
    "print(f\"ゼロ埋め: {num:05}\")  # 5桁で表示し、足りない部分はゼロで埋める"
   ]
  },
  {
   "cell_type": "code",
   "execution_count": 34,
   "id": "0c8a29cb",
   "metadata": {},
   "outputs": [
    {
     "name": "stdout",
     "output_type": "stream",
     "text": [
      "パーセント表示: 85.60%\n"
     ]
    }
   ],
   "source": [
    "accuracy = 0.856\n",
    "print(f\"パーセント表示: {accuracy:.2%}\")\n"
   ]
  },
  {
   "cell_type": "code",
   "execution_count": 35,
   "id": "c09c3a61",
   "metadata": {},
   "outputs": [
    {
     "name": "stdout",
     "output_type": "stream",
     "text": [
      "左揃え　「Alice     」\n",
      "右揃え　「     Alice」\n",
      "中央揃え「  Alice   」\n"
     ]
    }
   ],
   "source": [
    "name = \"Alice\"\n",
    "print(f\"左揃え　「{name:<10}」\")  # 左揃えで10文字幅\n",
    "print(f\"右揃え　「{name:>10}」\")  # 右揃えで10文字幅\n",
    "print(f\"中央揃え「{name:^10}」\")  # 中央揃えで10文字幅\n"
   ]
  },
  {
   "cell_type": "code",
   "execution_count": 37,
   "id": "fb5300d0",
   "metadata": {},
   "outputs": [
    {
     "name": "stdout",
     "output_type": "stream",
     "text": [
      "現在日時: 2025-08-15 12:59:56\n",
      "現在日時: 2025-08-15\n"
     ]
    }
   ],
   "source": [
    "from datetime import datetime\n",
    "now = datetime.now()\n",
    "print(f\"現在日時: {now:%Y-%m-%d %H:%M:%S}\")\n",
    "print(f\"現在日時: {now:%Y-%m-%d}\")"
   ]
  },
  {
   "cell_type": "code",
   "execution_count": 38,
   "id": "d45bdb47",
   "metadata": {},
   "outputs": [
    {
     "name": "stdout",
     "output_type": "stream",
     "text": [
      "None\n"
     ]
    }
   ],
   "source": [
    "value = None\n",
    "if value is None:\n",
    "    print(\"None\")"
   ]
  },
  {
   "cell_type": "code",
   "execution_count": 39,
   "id": "2728d81b",
   "metadata": {},
   "outputs": [
    {
     "name": "stdout",
     "output_type": "stream",
     "text": [
      "Hello!\n",
      "None\n"
     ]
    }
   ],
   "source": [
    "def greet():\n",
    "    print(\"Hello!\")\n",
    "\n",
    "result = greet()  # 関数がNoneを返す\n",
    "print(result)     # Noneと出力される\n"
   ]
  },
  {
   "cell_type": "code",
   "execution_count": 40,
   "id": "11338169",
   "metadata": {},
   "outputs": [
    {
     "name": "stdout",
     "output_type": "stream",
     "text": [
      "None\n"
     ]
    }
   ],
   "source": [
    "data = None\n",
    "if data is None:\n",
    "    print(\"None\")"
   ]
  },
  {
   "cell_type": "code",
   "execution_count": null,
   "id": "3115956b",
   "metadata": {},
   "outputs": [],
   "source": []
  }
 ],
 "metadata": {
  "kernelspec": {
   "display_name": ".venv",
   "language": "python",
   "name": "python3"
  },
  "language_info": {
   "codemirror_mode": {
    "name": "ipython",
    "version": 3
   },
   "file_extension": ".py",
   "mimetype": "text/x-python",
   "name": "python",
   "nbconvert_exporter": "python",
   "pygments_lexer": "ipython3",
   "version": "3.12.10"
  }
 },
 "nbformat": 4,
 "nbformat_minor": 5
}
