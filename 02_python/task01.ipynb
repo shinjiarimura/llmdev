{
 "cells": [
  {
   "cell_type": "code",
   "execution_count": 1,
   "id": "b7aef5de",
   "metadata": {},
   "outputs": [
    {
     "name": "stdout",
     "output_type": "stream",
     "text": [
      "はじめまして、 有村伸二 と申します。\n",
      "年齢は 48 歳です。来年は 49 歳になります。\n",
      "よろしくお願いします。\n"
     ]
    }
   ],
   "source": [
    "name = \"有村伸二\"\n",
    "age = 48\n",
    "print(f\"はじめまして、 {name} と申します。\")\n",
    "print(f\"年齢は {age} 歳です。来年は {age + 1} 歳になります。\")\n",
    "print(\"よろしくお願いします。\")"
   ]
  },
  {
   "cell_type": "code",
   "execution_count": null,
   "id": "9fcc7cdd",
   "metadata": {},
   "outputs": [],
   "source": []
  }
 ],
 "metadata": {
  "kernelspec": {
   "display_name": ".venv",
   "language": "python",
   "name": "python3"
  },
  "language_info": {
   "codemirror_mode": {
    "name": "ipython",
    "version": 3
   },
   "file_extension": ".py",
   "mimetype": "text/x-python",
   "name": "python",
   "nbconvert_exporter": "python",
   "pygments_lexer": "ipython3",
   "version": "3.12.10"
  }
 },
 "nbformat": 4,
 "nbformat_minor": 5
}
