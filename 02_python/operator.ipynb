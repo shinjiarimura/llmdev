{
 "cells": [
  {
   "cell_type": "code",
   "execution_count": 4,
   "id": "efb9be4d",
   "metadata": {},
   "outputs": [
    {
     "name": "stdout",
     "output_type": "stream",
     "text": [
      "割算（浮動小数点）:  3.3333333333333335\n",
      "整数除算:  3\n",
      "累乗:  100000\n"
     ]
    }
   ],
   "source": [
    "a = 10\n",
    "b = 3\n",
    "\n",
    "\n",
    "quotient_result = a / b    # 割り算（結果は浮動小数点）\n",
    "int_quotient_result = a // b  # 整数除算\n",
    "\n",
    "print(\"割算（浮動小数点）: \", quotient_result)  # 3.333...\n",
    "print(\"整数除算: \", int_quotient_result)       # 3\n",
    "\n",
    "power_result = a ** 5      # 累乗\n",
    "print(\"累乗: \", power_result)         # 1000"
   ]
  },
  {
   "cell_type": "code",
   "execution_count": 7,
   "id": "79e0886c",
   "metadata": {},
   "outputs": [
    {
     "name": "stdout",
     "output_type": "stream",
     "text": [
      "True\n"
     ]
    }
   ],
   "source": [
    "x= 150\n",
    "print(100 < x < 200)"
   ]
  },
  {
   "cell_type": "code",
   "execution_count": 8,
   "id": "b70e2232",
   "metadata": {},
   "outputs": [
    {
     "name": "stdout",
     "output_type": "stream",
     "text": [
      "a & b:  0b1000\n"
     ]
    }
   ],
   "source": [
    "a = 0b1100  # 12\n",
    "b = 0b1010  # 10\n",
    "\n",
    "print(\"a & b: \", bin(a & b))"
   ]
  },
  {
   "cell_type": "code",
   "execution_count": 12,
   "id": "fc028b1d",
   "metadata": {},
   "outputs": [
    {
     "name": "stdout",
     "output_type": "stream",
     "text": [
      "True\n",
      "True\n"
     ]
    }
   ],
   "source": [
    "a = 10   # int\n",
    "b = 3.5  # float\n",
    "c = True  # bool\n",
    "d = \"hello\"  # string\n",
    "e = [1, 2, 3]  # list\n",
    "\n",
    "print(2 in e)\n",
    "\n",
    "print(\"o\" in d)"
   ]
  },
  {
   "cell_type": "code",
   "execution_count": null,
   "id": "dc5a71af",
   "metadata": {},
   "outputs": [],
   "source": []
  },
  {
   "cell_type": "code",
   "execution_count": null,
   "id": "67864ed0",
   "metadata": {},
   "outputs": [],
   "source": []
  }
 ],
 "metadata": {
  "kernelspec": {
   "display_name": ".venv",
   "language": "python",
   "name": "python3"
  },
  "language_info": {
   "codemirror_mode": {
    "name": "ipython",
    "version": 3
   },
   "file_extension": ".py",
   "mimetype": "text/x-python",
   "name": "python",
   "nbconvert_exporter": "python",
   "pygments_lexer": "ipython3",
   "version": "3.12.10"
  }
 },
 "nbformat": 4,
 "nbformat_minor": 5
}
