{
 "cells": [
  {
   "cell_type": "code",
   "execution_count": 13,
   "id": "ff1786bb",
   "metadata": {},
   "outputs": [
    {
     "name": "stdout",
     "output_type": "stream",
     "text": [
      "送料は350円です\n",
      "送料込税込価格は2000円です\n"
     ]
    }
   ],
   "source": [
    "price = 0\n",
    "price_with_tax = 0\n",
    "tax_rate = 1.1\n",
    "ship_price = 350\n",
    "\n",
    "price = int(input(\"価格を入力してください\"))\n",
    "#print(price)\n",
    "\n",
    "if price >= 2000:\n",
    "    ship_price = 0\n",
    "    print(\"送料は無料です\")\n",
    "else:\n",
    "    print(f\"送料は{ship_price}円です\")\n",
    "\n",
    "print(f\"送料込税込価格は{int(price*tax_rate) + ship_price}円です\")\n"
   ]
  },
  {
   "cell_type": "code",
   "execution_count": null,
   "id": "489e0017",
   "metadata": {},
   "outputs": [],
   "source": []
  }
 ],
 "metadata": {
  "kernelspec": {
   "display_name": ".venv",
   "language": "python",
   "name": "python3"
  },
  "language_info": {
   "codemirror_mode": {
    "name": "ipython",
    "version": 3
   },
   "file_extension": ".py",
   "mimetype": "text/x-python",
   "name": "python",
   "nbconvert_exporter": "python",
   "pygments_lexer": "ipython3",
   "version": "3.12.10"
  }
 },
 "nbformat": 4,
 "nbformat_minor": 5
}
