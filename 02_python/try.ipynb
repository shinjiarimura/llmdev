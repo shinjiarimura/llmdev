{
 "cells": [
  {
   "cell_type": "code",
   "execution_count": 8,
   "id": "56e71b84",
   "metadata": {},
   "outputs": [
    {
     "name": "stdout",
     "output_type": "stream",
     "text": [
      "エラー: 整数を入力してください\n"
     ]
    }
   ],
   "source": [
    "try:\n",
    "    num = int(input(\"整数を入力\"))\n",
    "    result = 100 / num\n",
    "    print(f\"100 を {num} で割った結果は {result} です\")\n",
    "except ZeroDivisionError:\n",
    "    print(\"エラー: 0 で割ることはできません\")\n",
    "except ValueError:\n",
    "    print(\"エラー: 整数を入力してください\")\n",
    "except Exception as e:\n",
    "    print(f\"予期しないエラーが発生しました: {e}\")\n",
    "\n"
   ]
  },
  {
   "cell_type": "code",
   "execution_count": 9,
   "id": "01389818",
   "metadata": {},
   "outputs": [
    {
     "name": "stdout",
     "output_type": "stream",
     "text": [
      "0 で割り算しようとしています\n"
     ]
    }
   ],
   "source": [
    "a = 100\n",
    "b = 0\n",
    "\n",
    "try:\n",
    "    # 割り算を行う前にチェック\n",
    "    if b == 0:\n",
    "        raise ZeroDivisionError(\"0 で割り算しようとしています\")\n",
    "    \n",
    "    # 安全な場合のみ割り算を行う\n",
    "    print(a / b)\n",
    "except ZeroDivisionError as e:\n",
    "    print(e)"
   ]
  },
  {
   "cell_type": "code",
   "execution_count": null,
   "id": "4fdb084b",
   "metadata": {},
   "outputs": [],
   "source": []
  }
 ],
 "metadata": {
  "kernelspec": {
   "display_name": ".venv",
   "language": "python",
   "name": "python3"
  },
  "language_info": {
   "codemirror_mode": {
    "name": "ipython",
    "version": 3
   },
   "file_extension": ".py",
   "mimetype": "text/x-python",
   "name": "python",
   "nbconvert_exporter": "python",
   "pygments_lexer": "ipython3",
   "version": "3.12.10"
  }
 },
 "nbformat": 4,
 "nbformat_minor": 5
}
